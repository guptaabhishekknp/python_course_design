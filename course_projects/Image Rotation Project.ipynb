{
 "cells": [
  {
   "cell_type": "code",
   "execution_count": null,
   "metadata": {},
   "outputs": [],
   "source": [
    "import matplotlib.pyplot as plt\n",
    "import imageio\n",
    "import numpy as np\n",
    "import math\n",
    "\n",
    "f = imageio.imread('face.png')    #read the image\n",
    "f = np.dot(f[...,:3], [0.2989, 0.5870, 0.1140])     #convert the image to grayscale\n",
    "plt.imshow(f, cmap=\"gray\")        #show the grayscale image below"
   ]
  },
  {
   "cell_type": "code",
   "execution_count": null,
   "metadata": {},
   "outputs": [],
   "source": [
    "Rotation_Matrix = lambda x: np.array([[math.cos(x),-math.sin(x)],[math.sin(x),math.cos(x)]]) #rotation matrix lambda functio\n",
    "M = Rotation_Matrix(2*math.pi/3)   #actual rotation matrix by a certain angle\n",
    "#M = np.array([[20,0],[0,0.5]])    #any matrix of your choice\n",
    "\n",
    "M_inv = np.linalg.inv(M)           #calculate the inverse of M\n",
    "\n",
    "x_max = f.shape[0]                 #number of pixels along x-direction\n",
    "y_max = f.shape[1]                 #number of pixels along y-direction\n",
    "\n",
    "top_left = M@np.array([0,y_max])   #image under M, of the top-left corner of the input picture\n",
    "bottom_left = M@np.array([0,0])    #image under M, of the bottom-left corner of the input picture\n",
    "top_right = M@np.array([x_max,y_max])  #image under M, of the top-right corner of the input picture\n",
    "bottom_right = M@np.array([x_max,0])   #image under M, of the bottom-right corner of the input picture\n",
    "\n",
    "x_left = math.floor(min(top_left[0], bottom_left[0], top_right[0],bottom_right[0])) #left edge of bounding box of image\n",
    "x_right = math.ceil(max(top_left[0], bottom_left[0], top_right[0],bottom_right[0])) #right edge of bounding box of image\n",
    "y_top = math.ceil(max(top_left[1], bottom_left[1], top_right[1],bottom_right[1]))   #top edge of bounding box of image\n",
    "y_bottom = math.floor(min(top_left[1], bottom_left[1], top_right[1],bottom_right[1])) #bottom edge of bounding box of image"
   ]
  },
  {
   "cell_type": "code",
   "execution_count": null,
   "metadata": {},
   "outputs": [],
   "source": [
    "length = x_right-x_left  #length of the resulting bounding box/image frame\n",
    "height = y_top-y_bottom  #height of the resulting bounding box/image frame\n",
    "result = np.full((length,height),255)  #an array of the required dimension consisting of all white colors\n",
    "\n",
    "for i in range(0,length,1):  #looping over the pixels in the bounding box\n",
    "    for j in range(0,height,1):   #looping over the pixels in the bounding box\n",
    "        x_inv_image = math.floor((M_inv@np.array([i+x_left,j+y_bottom]))[0])  #x-coordinate of inv image of current pixel\n",
    "        y_inv_image = math.floor((M_inv@np.array([i+x_left,j+y_bottom]))[1])  #y-coordinate of inv image of current pixel\n",
    "        if (0<=x_inv_image) & (x_inv_image < x_max) & (0<=y_inv_image) & (y_inv_image < y_max): \n",
    "            result[i][j] = f[x_inv_image][y_inv_image]\n",
    "        \n",
    "plt.imshow(result, cmap=\"gray\")\n",
    "result = result.astype(np.uint8)\n",
    "imageio.imwrite('img.png',result)"
   ]
  }
 ],
 "metadata": {
  "kernelspec": {
   "display_name": "Python 3",
   "language": "python",
   "name": "python3"
  },
  "language_info": {
   "codemirror_mode": {
    "name": "ipython",
    "version": 3
   },
   "file_extension": ".py",
   "mimetype": "text/x-python",
   "name": "python",
   "nbconvert_exporter": "python",
   "pygments_lexer": "ipython3",
   "version": "3.7.1"
  }
 },
 "nbformat": 4,
 "nbformat_minor": 2
}

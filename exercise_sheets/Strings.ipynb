{
 "cells": [
  {
   "cell_type": "markdown",
   "metadata": {},
   "source": [
    "<center><h1> Strings </h1></center>\n",
    "\n",
    "Strings are datatypes that store sequence of characters including letters, numbers, special characters and spaces. We can create them simply by enclosing characters in quotes. Python treats single quotes the same as double quotes. \n",
    "\n",
    "**Example:** Below are examples of strings"
   ]
  },
  {
   "cell_type": "code",
   "execution_count": null,
   "metadata": {},
   "outputs": [],
   "source": [
    "s = \"apple@123\"\n",
    "t = 'Doe, Jane: 9989706523'\n",
    "r = 'The value of x is:'\n",
    "print(s)\n",
    "print(t)\n",
    "print(r)"
   ]
  },
  {
   "cell_type": "markdown",
   "metadata": {},
   "source": [
    "<h2> Accessing Characters and Substrings </h2>\n",
    "\n",
    "To access substrings, use the square brackets for slicing along with the index or indices to obtain your substring. Python does not have a character type; these are treated as strings of length one, thus also considered a substring.\n",
    "\n"
   ]
  },
  {
   "cell_type": "code",
   "execution_count": null,
   "metadata": {},
   "outputs": [],
   "source": [
    "s = 'Whats Up World!'\n",
    "t = \"This is Python Programming\"\n",
    "\n",
    "print(s[7])\n",
    "print(t[1:17])"
   ]
  },
  {
   "cell_type": "markdown",
   "metadata": {},
   "source": [
    "Strings are immutable. This means that elements of a string cannot be changed once it has been assigned. Thus, something like\n",
    "\n",
    "    s = \"Hello World!\"\n",
    "    s[0] = 'J'\n",
    "    \n",
    "will give an error because changing characters of a string is not allowed. We can, however, simply assign a new string to s. \n",
    "\n",
    "    s = \"Jello World!\"\n",
    "    \n",
    "For this method, we have to know what the string is. If we do not know, we can create a string with first character removed using the `lstrip()` function as we will see below."
   ]
  },
  {
   "cell_type": "markdown",
   "metadata": {},
   "source": [
    "<h2> Special Operations </h2>\n",
    "\n",
    "We can use + to concatenate and * to repeat strings. \n",
    "\n",
    "We can use the commands `in` and `notin` to check if a string is a substring of another string.\n",
    "\n",
    "**Example:** We see the above special operations at work below:\n"
   ]
  },
  {
   "cell_type": "code",
   "execution_count": null,
   "metadata": {},
   "outputs": [],
   "source": [
    "s = \"Apple\"\n",
    "t = 'Juice'\n",
    "u = 'Otherwise'\n",
    "\n",
    "print(s+t)\n",
    "print(t*15)\n",
    "print('wise' in u)\n",
    "print('mango' in t)"
   ]
  },
  {
   "cell_type": "markdown",
   "metadata": {},
   "source": [
    "<h2> String Formatting </h2>\n",
    "\n",
    "Sometimes we need to insert characters in between a string. Formatting comes in handy in such cases. Wherever we need to insert something, we put `{}` in that place in the string. After the closing double/single quote of the string, we write `.format()` with the value that we want to print in place of `{}` appearing inside of the brackets of `format()`.\n",
    "We understand this using an example.\n",
    "\n",
    "**Example:**"
   ]
  },
  {
   "cell_type": "code",
   "execution_count": null,
   "metadata": {},
   "outputs": [],
   "source": [
    "a = 2\n",
    "b = 3\n",
    "\n",
    "print(\"Multiplying {} with {} gives: {}\".format(a,b,a*b))"
   ]
  },
  {
   "cell_type": "markdown",
   "metadata": {},
   "source": [
    "<h2> String Functions </h2>\n",
    "\n",
    "We now look at some useful string functions:\n",
    "\n",
    "1) `len(string)` returns the length of the string\n",
    "\n",
    "2) `s.split(t)` splits the string `s` with splittings at places where the string `t` appears. Returns the list of the substing pieces.\n",
    "\n",
    "**Example:** "
   ]
  },
  {
   "cell_type": "code",
   "execution_count": null,
   "metadata": {},
   "outputs": [],
   "source": [
    "s = \"Hi, I'm Santa, I'm 1748 years old, and I will give you gifts\"\n",
    "print(s.split(\", \"))\n",
    "\n",
    "z = \"I saw a kitten eating chicken in the kitchen\"\n",
    "print(z.split(\" \")) #so, we can use this method to split a sentence into its words"
   ]
  },
  {
   "cell_type": "markdown",
   "metadata": {},
   "source": [
    "3) `s.join(l)` where `s` is a string and `l` is an iterable consisting of strings. This is used to concatenate together the elements of `l` with `s` between successive elements.\n",
    "\n",
    "**Example:** "
   ]
  },
  {
   "cell_type": "code",
   "execution_count": null,
   "metadata": {},
   "outputs": [],
   "source": [
    "l = ['Apple','Banana','Cherries','Dragonfruit','Elderberry','Fig']\n",
    "s = ' and '\n",
    "\n",
    "print(s.join(l))"
   ]
  },
  {
   "cell_type": "markdown",
   "metadata": {},
   "source": [
    "4) `endswith()` and `startswith()` \n",
    "\n",
    "**Example:**"
   ]
  },
  {
   "cell_type": "code",
   "execution_count": null,
   "metadata": {},
   "outputs": [],
   "source": [
    "s = \"Hello World\"\n",
    "print(s.startswith(\"Hello\"))\n",
    "print(s.endswith(\"World\"))"
   ]
  },
  {
   "cell_type": "markdown",
   "metadata": {},
   "source": [
    "5) `lstrip()` and `rstrip()` and `strip()` can be used to remove characters from the left, right and both left and right of the string.\n",
    "\n",
    "**Example:**"
   ]
  },
  {
   "cell_type": "code",
   "execution_count": null,
   "metadata": {},
   "outputs": [],
   "source": [
    "t = \"Gone with the wind\"\n",
    "print(t.lstrip(\"G\"))\n",
    "print(t.rstrip(\"d\"))\n",
    "print(t.strip(\"dG\"))"
   ]
  },
  {
   "cell_type": "markdown",
   "metadata": {},
   "source": [
    "6) We can check if a string is composed entirely of a single type of characters:\n",
    "\n",
    "`isalnum()` Returns true if string has at least 1 character and all characters are alphanumeric and false otherwise.\n",
    "\n",
    "`isalpha()` Returns true if string has at least 1 character and all characters are alphabetic and false otherwise.\n",
    "\n",
    "`isdigit()` Returns true if string contains only digits and false otherwise.\n",
    "\n",
    "`isspace()` Returns true if string contains only whitespace characters and false otherwise.\n",
    "\n",
    "Similarly, we can check if a string is lower case, upper case or title case using the functions: `islower()` `isupper()` and `istitle()` respectively.\n",
    "\n",
    "**Example:** "
   ]
  },
  {
   "cell_type": "code",
   "execution_count": null,
   "metadata": {},
   "outputs": [],
   "source": [
    "print(\"abc123\".isalnum())\n",
    "print(\"MoTh\".isalpha())\n",
    "print(\"Holy666\".isdigit())\n",
    "print(\"   \".isspace())"
   ]
  },
  {
   "cell_type": "markdown",
   "metadata": {},
   "source": [
    "7) `replace()` can be used to replace all occurences of a substring with another substring. Can also be used to delete a substring or character from a given string.\n",
    "\n",
    "**Example:** "
   ]
  },
  {
   "cell_type": "code",
   "execution_count": null,
   "metadata": {},
   "outputs": [],
   "source": [
    "s = \"If police police police police, who polices the police police?\"\n",
    "print(s.replace(\"police\",\"potato\"))"
   ]
  },
  {
   "cell_type": "markdown",
   "metadata": {},
   "source": [
    "8) `count()`  returns occurrences of substring in string\n",
    "and `index()` returns Index of Substring\n",
    "\n",
    "**Example:** "
   ]
  },
  {
   "cell_type": "code",
   "execution_count": null,
   "metadata": {},
   "outputs": [],
   "source": [
    "s = \"Buffalo buffalo Buffalo buffalo buffalo buffalo Buffalo buffalo\"\n",
    "print(s.count(\"buffalo\"))\n",
    "print(s.count(\"Buffalo\"))\n",
    "print(s.index(\"alo\"))"
   ]
  },
  {
   "cell_type": "markdown",
   "metadata": {},
   "source": [
    "9) `int()` is used to convert a string consisting of digits to the corresponding integer\n",
    "\n",
    "**Example:**"
   ]
  },
  {
   "cell_type": "code",
   "execution_count": null,
   "metadata": {},
   "outputs": [],
   "source": [
    "print(int(\"119\")+181)"
   ]
  }
 ],
 "metadata": {
  "kernelspec": {
   "display_name": "Python 3",
   "language": "python",
   "name": "python3"
  },
  "language_info": {
   "codemirror_mode": {
    "name": "ipython",
    "version": 3
   },
   "file_extension": ".py",
   "mimetype": "text/x-python",
   "name": "python",
   "nbconvert_exporter": "python",
   "pygments_lexer": "ipython3",
   "version": "3.7.1"
  }
 },
 "nbformat": 4,
 "nbformat_minor": 2
}

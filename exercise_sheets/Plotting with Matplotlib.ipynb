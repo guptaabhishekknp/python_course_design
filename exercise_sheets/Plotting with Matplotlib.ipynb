{
 "cells": [
  {
   "cell_type": "markdown",
   "metadata": {},
   "source": [
    "<center><h1> Plotting with Matplotlib </h1> </center>\n",
    "\n",
    "Matplotlib is a python library used for plotting graphs, histograms, scatter plots, density and contour plots, three dimensional plots etc. \n",
    "\n",
    "<h2> Plotting graphs with Matplotlib </h2>\n",
    "\n",
    "There are three ways of plotting graphs with matplotlib. This makes it a little confusing but one needs to be familiar with all the ways, as you will come across all of them being used. As we will see, all these methods do the same thing: creating a figure object with axes objects, and the plotting graphs on the axes objects within the figure. They even work in the exact same way, the only difference being the explicitness of detail used in the code for each.\n",
    "\n",
    "\n",
    "<h3> First way </h3>\n",
    "    \n",
    "In this way, don't deal with either the figure object or the axes object - it's all happening in the background, hidden from the user. \n",
    "This is the simplest way, and best suited if a single graph has to be plotted. We first import the `pyplot` sublibrary from the `matplotlib` library:"
   ]
  },
  {
   "cell_type": "code",
   "execution_count": null,
   "metadata": {},
   "outputs": [],
   "source": [
    "import matplotlib.pyplot as plt\n",
    "import numpy as np\n",
    "\n",
    "plt.style.use('default')\n",
    "\n",
    "plt.plot([1,2,3],[2,4,6])\n",
    "plt.show()\n",
    "plt.savefig('example.png')"
   ]
  },
  {
   "cell_type": "markdown",
   "metadata": {},
   "source": [
    "The `plt.plot()` command takes two integer lists or numpy arrays and plots the second one as the y-coordinate against the first one which is treated as the x-coordinate. `plt.show()` is used to print the figure and then it can be saved in a suitable format.\n",
    "\n",
    "We can plot several functions on a single axes:"
   ]
  },
  {
   "cell_type": "code",
   "execution_count": null,
   "metadata": {},
   "outputs": [],
   "source": [
    "x = np.linspace(0,5,50)\n",
    "\n",
    "plt.plot(x,np.sin(x))\n",
    "plt.plot(x,np.cos(x))\n",
    "plt.show()"
   ]
  },
  {
   "cell_type": "markdown",
   "metadata": {},
   "source": [
    "Once `plt.show()` command is executed, python clears the current figure and the figure memory is blank. Thus if we save the figure after `plt.show()` it will save a blank graph. Once the current figure is cleared using `plt.show()`, we can draw fresh graphs."
   ]
  },
  {
   "cell_type": "code",
   "execution_count": null,
   "metadata": {},
   "outputs": [],
   "source": [
    "x = np.linspace(0,5,50)\n",
    "\n",
    "plt.plot(x,np.sin(x))\n",
    "plt.plot(x,np.cos(x))\n",
    "plt.show()\n",
    "\n",
    "plt.plot(x,np.sqrt(x))\n",
    "plt.show()"
   ]
  },
  {
   "cell_type": "markdown",
   "metadata": {},
   "source": [
    "Thus after the first figure is displayed and cleared, the current figure memore is clean to draw a fresh figure again. If we wish to access a previous figure we need to have stored that figure in a variable. \n",
    "\n",
    "**Example:** In the example below we plot sin(x) and save the current figure object in the variable `i` using the command `plt.gcf()` to get the current figure."
   ]
  },
  {
   "cell_type": "code",
   "execution_count": null,
   "metadata": {},
   "outputs": [],
   "source": [
    "plt.plot(x,np.sin(x))\n",
    "i = plt.gcf()\n",
    "\n",
    "plt.figure()\n",
    "plt.plot(x,np.cos(x))\n",
    "\n",
    "plt.figure(id(i)) #plt.figure(i.number) may also be used instead\n",
    "plt.plot(x,x) #i.axes[0].plot(x,x) may also be used instead to explicitky get to the axes object and call its plot function\n",
    "\n",
    "plt.show()"
   ]
  },
  {
   "cell_type": "markdown",
   "metadata": {},
   "source": [
    "We can draw multiple axes within the same figure. For this, we use `plt.subplot()` and pass into it the grid dimensions and the axes number in that grid.\n",
    "\n",
    "**Example:** Below we produce a 2$\\times$2 grid of graphs and we draw sin(x) on the fourth graph and cos(x) on the first one."
   ]
  },
  {
   "cell_type": "code",
   "execution_count": null,
   "metadata": {},
   "outputs": [],
   "source": [
    "plt.subplots(2,2) #this line tell it to draw four axes. Comment out this line and run again to see what happens.\n",
    "\n",
    "plt.subplot(2,2,4)\n",
    "plt.plot(x,np.sin(x))\n",
    "\n",
    "plt.subplot(2,2,1)\n",
    "plt.plot(x,np.cos(x))\n",
    "plt.show()"
   ]
  },
  {
   "cell_type": "markdown",
   "metadata": {},
   "source": [
    "<h3> Second way </h3>\n",
    "\n",
    "In this second method, we are explicit about the figure object but not about the axes objects inside the figure object. \n",
    "\n",
    "In the examples above, what `plt.plot()` does is to find the current figure and if there isn't one creare a figure object. So, behind the scenes there is a unnamed figure object which is the current figure object. The command then creates an axes object inside the figure object and calls the plot function of that axes object, which plots the graph that we see. It helps to note that figure objects do not have a plot function. Thus something like `figurename.plot()` will give an error. One has to find an axes object in the figure, and then call its plot function.\n",
    "\n",
    "The second way is to explicity name the figure object:\n",
    "\n",
    "**Example:** In the code below, we create a figure object, then use the `plt.plot()` command to plot on that figure and then display it."
   ]
  },
  {
   "cell_type": "code",
   "execution_count": null,
   "metadata": {},
   "outputs": [],
   "source": [
    "fig1 = plt.figure() #If we want, we can give this figure a name using plt.figure(\"Sam\").\n",
    "plt.plot(x,np.sin(x))\n",
    "fig1.show()\n",
    "fig1.savefig('example.png')"
   ]
  },
  {
   "cell_type": "markdown",
   "metadata": {},
   "source": [
    "In the above example, we could have also used the `plt.show()` and `plt.savefig()` commands. What these either of these commands do, is to go to the current figure and call the functions `show()` and `savefig()` for the current figure. \n",
    "Calling plt.plot() is just a convenient way to get the current Axes of the current Figure and then call its plot() method. This is what is meant by the assertion that the stateful interface always “implicitly tracks” the plot that it wants to reference.\n",
    "Creating multiple plots in the same figure.\n",
    "\n",
    "**Example:** Below is an example that shows how to have multiple graphs with this method."
   ]
  },
  {
   "cell_type": "code",
   "execution_count": null,
   "metadata": {},
   "outputs": [],
   "source": [
    "fig1,_ = plt.subplots(2,2)\n",
    "plt.subplot(2, 2, 1)\n",
    "plt.plot(x,np.sin(x))\n",
    "fig1.show()"
   ]
  },
  {
   "cell_type": "markdown",
   "metadata": {},
   "source": [
    "The current figure is the one for which `plt.figure()` was last used. This method returns the figure which has its name or number in the brackets. If the brackets are empty then it returns a new figure object. \n",
    "\n",
    "With this method, by being explicit about figure, we also get the power to refer back to a figure we plotted earlier, make that our current figure and work on that again. \n",
    "\n",
    "**Example:** The code below plots fig1 and then fig2. Then it makes fig1 the current figure again."
   ]
  },
  {
   "cell_type": "code",
   "execution_count": null,
   "metadata": {},
   "outputs": [],
   "source": [
    "fig1 = plt.figure()\n",
    "plt.plot(x,np.sin(x))\n",
    "\n",
    "fig2 = plt.figure()\n",
    "plt.plot(x,np.cos(x),'--')\n",
    "plt.figure(fig1.number) #this line changes the current figure back to fig1, remove # to see what happens\n",
    "plt.plot(x,x) #the function y=x will be plotted with the sin function in fig1\n",
    "plt.show()\n",
    "#plt.gca().plot(x,x)\n",
    "#plt.gcf().axes[0].plot(x,x)"
   ]
  },
  {
   "cell_type": "markdown",
   "metadata": {},
   "source": [
    "We now begin to see how to access the axes object lurking in the background, before we finally talk about the third way where we are explicit about both the figure object and the axes object. "
   ]
  },
  {
   "cell_type": "code",
   "execution_count": null,
   "metadata": {},
   "outputs": [],
   "source": [
    "fig1 = plt.figure()\n",
    "print(len(fig1.axes)) #the output of this will be 0, as the figure object does not have an axes object in it yet\n",
    "plt.plot(x,np.sin(x))\n",
    "print(len(fig1.axes)) #the output of this will be 1, as the previous line automatically creates an axes object\n",
    "fig1.show()\n",
    "fig1.savefig('example.png')"
   ]
  },
  {
   "cell_type": "markdown",
   "metadata": {},
   "source": [
    "When we write `fig1 = plt.figure()`, the figure object created then does not yet have any axes objects in it. It's only after we call `plt.plot()` are the axes objects created in the figure object. We can check this in the following example:\n",
    "\n",
    "**Example:** The code below declares a figure, which doesn't have axes yet. Then `plt.axes()` creates axes when it doesn't find any, which is then accesed in the third line and plotted on, in the fourth line."
   ]
  },
  {
   "cell_type": "code",
   "execution_count": null,
   "metadata": {},
   "outputs": [],
   "source": [
    "fig = plt.figure()\n",
    "ax1 = plt.axes() \n",
    "ax, = fig.axes #the notation ax, =; tries to take a singleton list and upack it to get the element of that list\n",
    "ax.plot(x,np.exp(x)) "
   ]
  },
  {
   "cell_type": "markdown",
   "metadata": {},
   "source": [
    "If we comment out the second line then we get an error. That's because in the third line `fig.axes` returns an empty list so there is nothing to unpack.\n",
    "Third line takes the list of axes, namely `fig.axes`, and assuming it is a singleton list, tries to unpact it. This command accesses the axes that the `plt.axes()` command automatically creates in the previous line. If the previous line is not executed then there aren't any axes at all, and it will return an error."
   ]
  },
  {
   "cell_type": "markdown",
   "metadata": {},
   "source": [
    "<h2> Third Way </h2>\n",
    "\n",
    "This way is completely explicit: both the figure and axes object are dealt with completely explicitly.\n",
    "\n"
   ]
  },
  {
   "cell_type": "code",
   "execution_count": null,
   "metadata": {},
   "outputs": [],
   "source": [
    "fig, ax = plt.subplots(2,3)\n",
    "x=np.linspace(0,10,100)\n",
    "ax[0][1].plot(x,np.sin(x))\n",
    "\n",
    "ax[1][1].plot(x,np.sin(x),linestyle=':',color='b', label='Line 1')\n",
    "p2, = ax[1][1].plot(x,np.cos(x),'-g', label='Line 2')\n",
    "print(type(p1))\n",
    "ax[1][1].axis(xmin=-1,xmax=15)\n",
    "#ax[1][1].set_xlim(-5,5)\n",
    "#ax[1][1].set_ylim(-1.5,1.5)\n",
    "ax[1][1].set_xlabel(\"mak\")\n",
    "ax[1][1].set_title(\"ack\")\n",
    "\n",
    "ax[0][1].set_xlabel(\"ch\")\n",
    "ax[1][1].legend(handles=[p1, p2])"
   ]
  },
  {
   "cell_type": "markdown",
   "metadata": {},
   "source": [
    "`plt.subplots()` is a function that returns a tuple containing a figure and axes object(s). Thus when using fig, `ax = plt.subplots()` you unpack this tuple into the variables fig and ax. Having fig is useful if you want to change figure-level attributes or save the figure as an image file later (e.g. with `fig.savefig('yourfilename.png')`). You certainly don't have to use the returned figure object but many people do use it later so it's common to see. Also, all axes objects (the objects that have plotting methods), have a parent figure object anyway, thus:\n",
    "\n",
    "`fig, ax = plt.subplots()`\n",
    "is more concise than this:\n",
    "\n",
    "`fig = plt.figure()\n",
    "ax = fig.add_subplot(111)`"
   ]
  },
  {
   "cell_type": "code",
   "execution_count": null,
   "metadata": {},
   "outputs": [],
   "source": [
    "import matplotlib.pyplot as plt\n",
    "\n",
    "x = np.linspace(0,5,50)\n",
    "    \n",
    "\n",
    "fig1 = plt.figure()\n",
    "\n",
    "ax = fig1.add_subplot(111)\n",
    "plt.plot(x,np.sin(x))\n",
    "\n",
    "#plt.show()\n",
    "fig = plt.figure()\n",
    "fig.add_subplot(221)#top left\n",
    "plt.subplot(2,2,1)\n",
    "plt.plot(x,x)\n",
    "fig.add_subplot(222)   #top right\n",
    "plt.plot(x,x**2)\n",
    "fig.add_subplot(223)   #bottom left\n",
    "plt.plot(x,x**3)\n",
    "fig.add_subplot(224)   #bottom right \n",
    "plt.plot(x,x**4)\n",
    "print(plt.get_fignums())\n",
    "plt.show()\n",
    "\n",
    "fig1, ax1 = plt.subplots()\n",
    "\n",
    "id(fig1)\n",
    "\n",
    "\n",
    "id(plt.gcf())  # `fig1` is the current figure.\n",
    "\n",
    "\n",
    "fig2, ax2 = plt.subplots()\n",
    "\n",
    "plt.get_fignums()\n",
    "\n",
    "ax = plt.subplot()\n",
    "ax.plot(x, np.sin(x))\n",
    "\n",
    "\n",
    "figure = plt.figure()\n",
    "new_plot = figure.add_subplot(111)\n",
    "new_plot.plot(x, np.cos(x))\n",
    "\n",
    "\n",
    "ax = plt.axes()\n",
    "line = ax.plot(x,x)\n",
    "\n",
    "\n",
    "fig = plt.figure()\n",
    "ax = fig.add_axes([0,0,1,1])\n",
    "line = ax.plot(x,x)\n"
   ]
  },
  {
   "cell_type": "code",
   "execution_count": null,
   "metadata": {},
   "outputs": [],
   "source": []
  }
 ],
 "metadata": {
  "kernelspec": {
   "display_name": "Python 3",
   "language": "python",
   "name": "python3"
  },
  "language_info": {
   "codemirror_mode": {
    "name": "ipython",
    "version": 3
   },
   "file_extension": ".py",
   "mimetype": "text/x-python",
   "name": "python",
   "nbconvert_exporter": "python",
   "pygments_lexer": "ipython3",
   "version": "3.7.1"
  }
 },
 "nbformat": 4,
 "nbformat_minor": 2
}

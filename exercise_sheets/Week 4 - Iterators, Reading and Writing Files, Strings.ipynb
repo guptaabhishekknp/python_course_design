{
 "cells": [
  {
   "cell_type": "markdown",
   "metadata": {},
   "source": [
    "<center><h1> Week 4 - Iterators, Reading/Writing Files, Strings </h1></center>\n",
    "\n",
    "\n",
    "\n",
    "1) Write a python code to find the number of occurences of the character 'f' in the following string. If the number is more than the number of occurences of '0', replaces all occurences of 'f' with 'g'. If not, replace 'f' with 'h'.\n",
    "\n",
    "'C0me fortf 0nd fthee fsh0ll' receiffe fl0ry.'\n",
    "\n",
    "2) Write a Python program to get a string from the string below where all occurrences of its first char have been changed to '$', except the first char itself.\n",
    "\n",
    "'CALCIC CHOCCY COCCAL COCCIC COCCID COCCOS COCCUS COCCYX CYCLIC COCCIS'\n",
    "\n",
    "3) In the string below, find the word count of each word and print the words in descending order of word count.\n",
    "\n",
    "\"The quick brown fox jumps over the lazy dog. Man and dog are friends. Man is lazy. The fox ate the apple. Man killed the fox. Man and fox are not friends. Are dog and fox friends? Is fox lazy? Man lives in a crazy world full of dog and fox.\"\n",
    "\n",
    "4) Write a program to print a string in reverse order. \n",
    "\n",
    "s = \"The quick brown fox jumps over the thick lazy dog.\"\n",
    "\n",
    "5) Write a program to count the number of alphabet, digits, spaces and special characters in the string:\n",
    "\n",
    "s= \"Laura is !2#5^^. Jess is @#$3%8^. Donald is %5$^1?/:<. Sam is #R@$6*6.\"\n",
    "\n",
    "Hint: split() by spaces - number of spaces is length of array-1. Then use the functions isalpha(), isdigit() etc.\n",
    "\n",
    "6) Find the longest and shortest word in. Also print each word with its frequency:\n",
    "\n",
    "s = \"Lorem ipsum dolor sit amet, consectetur adipiscing elit, sed do eiusmod tempor incididunt ut labore et dolore magna aliqua. Dolor sed viverra ipsum nunc aliquet bibendum enim. In massa tempor nec feugiat. Nunc aliquet bibendum enim facilisis gravida. Nisl nunc mi ipsum faucibus vitae aliquet nec ullamcorper. Amet luctus venenatis lectus magna fringilla. Volutpat maecenas volutpat blandit aliquam etiam erat velit scelerisque in. Egestas egestas fringilla phasellus faucibus scelerisque eleifend. Sagittis orci a scelerisque purus semper eget duis. Nulla pharetra diam sit amet nisl suscipit. Sed adipiscing diam donec adipiscing tristique risus nec feugiat in. Fusce ut placerat orci nulla. Pharetra vel turpis nunc eget lorem dolor. Tristique senectus et netus et malesuada.\n",
    "\n",
    "Etiam tempor orci eu lobortis elementum nibh tellus molestie. Neque egestas congue quisque egestas. Egestas integer eget aliquet nibh praesent tristique. Vulputate mi sit amet mauris. Sodales neque sodales ut etiam sit. Dignissim suspendisse in est ante in. Volutpat commodo sed egestas egestas. Felis donec et odio pellentesque diam. Pharetra vel turpis nunc eget lorem dolor sed viverra. Porta nibh venenatis cras sed felis eget. Aliquam ultrices sagittis orci a. Dignissim diam quis enim lobortis. Aliquet porttitor lacus luctus accumsan. Dignissim convallis aenean et tortor at risus viverra adipiscing at.\"\n",
    "\n",
    "7) The file `counter.txt` has lines of the following form:\n",
    "\n",
    "c : 34v5vT5et#%h#jVF#ccc^$BY%B%cc%^^%BB%^*B%V45yv55f4\n",
    "\n",
    "for each line, find the number of times, the character before the colon appears in the string after the colon.\n",
    "\n",
    "8) For the string: encode the string by replacing each letter by the letter i positions ahead of it in the english alphabet, where i is the position where the character appears in the sentence. Preserve the case, spaces and period.\n",
    "\n",
    "s = \"Roses are red and water is colorless.\"\n",
    "\n",
    "For example, the encoding of the word 'Cat' would be 'Dcw' because 1 position after C in the alphabet is D, a becomes c as 2 positions afte a is c, and t becomes w as 3 positions after t is w. Treat the alphabet in a circle for this, in other words roll back to a if you cross z.\n",
    "\n",
    "9) The text file `PopularNames.txt` has popular male and female baby names for years 2013 - 2018. Find which male and female names appear in the most lists. Also, find the male and female names which have least total rank (sum of ranks across years).\n",
    "\n",
    "10) From the file `rectangles.txt` contaning rectangle name, length, width: Find the rectangle dimensions with the largest area. Also find the rectangle with the smallest perimeter.\n"
   ]
  },
  {
   "cell_type": "code",
   "execution_count": null,
   "metadata": {},
   "outputs": [],
   "source": []
  }
 ],
 "metadata": {
  "kernelspec": {
   "display_name": "Python 3",
   "language": "python",
   "name": "python3"
  },
  "language_info": {
   "codemirror_mode": {
    "name": "ipython",
    "version": 3
   },
   "file_extension": ".py",
   "mimetype": "text/x-python",
   "name": "python",
   "nbconvert_exporter": "python",
   "pygments_lexer": "ipython3",
   "version": "3.7.1"
  }
 },
 "nbformat": 4,
 "nbformat_minor": 2
}

{
 "cells": [
  {
   "cell_type": "markdown",
   "metadata": {},
   "source": [
    "# Exercise 1\n",
    "\n",
    "pyploy documentations is available at https://matplotlib.org/api/pyplot_api.html use the data given in the table below and (a) plot a graph with triangle at the (X,Y) points and dashed connecting lines. (b) Use autofmt_xdate() to fix overlapping labels and (c) change the format to mm-dd-YY (Hint: major_formatter) and with evenly spread X-axis (Hint:major_locator)\n",
    "\n",
    "| Date       |#of followers|\n",
    "|------------|-------------|\n",
    "| 2019-07-26 | 107,374,866 |\n",
    "|------------|-------------|\n",
    "| 2019-07-29 | 107,427,201 |\n",
    "|------------|-------------|\n",
    "| 2019-07-31 | 107,468,452 |\n",
    "|------------|-------------|\n",
    "| 2019-08-03 | 107,535,449 |\n",
    "|------------|-------------|\n",
    "| 2019-08-05 | 107,587,655 |\n",
    "|------------|-------------|\n",
    "| 2019-08-08 | 107,705,063 |\n",
    "|------------|-------------|\n",
    "\n",
    "#### Table: Obama twitter followers."
   ]
  },
  {
   "cell_type": "code",
   "execution_count": 35,
   "metadata": {
    "scrolled": true
   },
   "outputs": [
    {
     "data": {
      "image/png": "[encoded data removed]",
      "text/plain": [
       "<Figure size 432x288 with 1 Axes>"
      ]
     },
     "metadata": {
      "needs_background": "light"
     },
     "output_type": "display_data"
    }
   ],
   "source": [
    "import matplotlib.pyplot as plt\n",
    "import matplotlib.dates as mdates\n",
    "import datetime as dt\n",
    "\n",
    "# x axis values \n",
    "dates = ['2019-07-26','2019-07-29','2019-07-31','2019-08-03','2019-08-05','2019-08-08'] \n",
    "x = [dt.datetime.strptime(d,'%Y-%m-%d').date() for d in dates]\n",
    "# corresponding y axis values \n",
    "y = [107374866,107427201,107468452,107535449,107587655,107705063] \n",
    "\n",
    "# plotting the points  \n",
    "\n",
    "\n",
    "plt.gca().xaxis.set_major_formatter(mdates.DateFormatter('%m/%d/%Y'))\n",
    "plt.gca().xaxis.set_major_locator(mdates.DayLocator())\n",
    "plt.plot(x, y, color='green', linestyle='dashed', linewidth = 3, \n",
    "         marker='o', markerfacecolor='blue', markersize=12) \n",
    "plt.gcf().autofmt_xdate()\n",
    "\n",
    "\n",
    "  \n",
    "# naming the x axis \n",
    "plt.xlabel('X - axis') \n",
    "# naming the y axis \n",
    "plt.ylabel('# in 10000') \n",
    "  \n",
    "# giving a title to my graph \n",
    "plt.title('Obama twitter follwers!') \n",
    "  \n",
    "# function to show the plot \n",
    "plt.show() \n"
   ]
  },
  {
   "cell_type": "markdown",
   "metadata": {},
   "source": [
    "# Exercise 2\n",
    "\n",
    "For the same dates, the followers of Katy Perry are as follows \n",
    "\n",
    "| Date       |#of followers|\n",
    "|------------|-------------|\n",
    "| 2019-07-26 | 107,782,466 |\n",
    "|------------|-------------|\n",
    "| 2019-07-29 | 107,793,195 |\n",
    "|------------|-------------|\n",
    "| 2019-07-31 | 107,800,746 |\n",
    "|------------|-------------|\n",
    "| 2019-08-03 | 107,812,091 |\n",
    "|------------|-------------|\n",
    "| 2019-08-05 | 107,816,329 |\n",
    "|------------|-------------|\n",
    "| 2019-08-08 | 107,818,021 |\n",
    "|------------|-------------|\n",
    "\n",
    "#### Table: Katy Perry twitter followers.\n",
    "\n",
    "a) Plot Katy Perry and Obama twitter follwers in the same graph.\n",
    "b) By using stats.linregress can you predict when can Obama pass Katy Perry in the number of followers?\n"
   ]
  },
  {
   "cell_type": "markdown",
   "metadata": {},
   "source": [
    "# Exercise 3\n",
    "Jericho water temperature csv file contains temperature of Atlantic ocean measured over a period of time. The temperatures were collected at Jericho Beach, Vancouver, BC, Canada. Plot a scatter with temperatures on Y axis and days on the X axis."
   ]
  },
  {
   "cell_type": "markdown",
   "metadata": {},
   "source": [
    "# Exercise 4\n",
    "\n",
    "NASDAQSCOM.csv file contains NASDAQ Compsite index from 1972 to 2019. Plot a scatter with percentage of daily change in the index with the given data"
   ]
  },
  {
   "cell_type": "markdown",
   "metadata": {},
   "source": [
    "# Exercise 5\n",
    "Climate-Central England.dat file contains monthly mean temperatures of central England from 1659 to 2018. Take the yearly mean temperature of 1839 as the standard and plot a bar chart showing the difference between yearly means. Your should be able to plot both positive and negative changes. For example, yearly mean temperature of 1857 is 10.11 which means that the change for that year is 10.11 - 8.71 = 1.4, your graph should show a bar of 1.4 units above X-axis. Similarly for the year 1812 the yearly mean is 8.21, which is 0.5 less than the standard temperature of 1839, hence your graph should show a bar of 0.5 units below the X-axis.\n",
    "\n"
   ]
  },
  {
   "cell_type": "markdown",
   "metadata": {},
   "source": [
    "# Exercise 6\n",
    "Using the data available in 2008 A4 Quattro Data file plot a bar graph showing annual maintainance costs from 2011. Your graph should also include another line graph with aggregate maintainaace costs."
   ]
  },
  {
   "cell_type": "markdown",
   "metadata": {},
   "source": [
    "# Exercise 7\n",
    "Underlying Cause of Death, 1999-2017 file contains leading 15 causes of death in people older than 45 years. Plot a pie chart with the given data showing all the leading 15 causes."
   ]
  },
  {
   "cell_type": "markdown",
   "metadata": {},
   "source": [
    "# Exercise 8\n",
    "\n",
    "We will use this and next exercise to see more males are born each year, but females tend to live longer by using data from https://www.census.gov/data.html. For the year 2017 census estimates (refer file ACS_17_5YR_S0101) that there are 10,151,822  males and 9,701,693 females in the age group 0-5 years. Plot this"
   ]
  },
  {
   "cell_type": "markdown",
   "metadata": {},
   "source": [
    "# Exercise 9\n",
    "\n",
    "Plot a scatter with hline with the data available from the file file ACS_17_5YR_S0101."
   ]
  },
  {
   "cell_type": "markdown",
   "metadata": {},
   "source": [
    "# Exercise 10\n",
    "\n",
    "180 ml cup of drip brewed coffee contains 100 mg of Caffeine. Draw a bar chart with mg of caffeine on X-axis with a brown line showing the 100mg mark. This brown line should span the lenght of the entire graph. Energy drinks file contains amount of caffeine present in various energy drinks. Add these items on Y-axis with horizontal bars showing amount of caffeine in each energy drink."
   ]
  },
  {
   "cell_type": "markdown",
   "metadata": {},
   "source": [
    "# Exercise 11\n",
    "\n",
    "In a split plot draw graphs of sin x, cos x, x^2, x^3. "
   ]
  },
  {
   "cell_type": "markdown",
   "metadata": {},
   "source": [
    "# Exercise 12\n",
    "\n",
    "Split the screen into 3 equal horizontal strips of subplots and allocate subplots to draw of graphs of sin x, e^(-x) and (sin x)*(e^(-x))."
   ]
  },
  {
   "cell_type": "markdown",
   "metadata": {},
   "source": [
    "# Exercise 13\n",
    "\n",
    "The files Austria accidents (involving both drunk and non drunk drivers), Austria accidents drunk (accidents involving only drunk drivers) contains information about accidents occured between 1992 to 2018 in the country Austria. Plot a split line plot showing people injured per accident and people killed per accidents between 1992 and 2018. Each sub plot should have lines for drunk driving and non drunk driving."
   ]
  },
  {
   "cell_type": "markdown",
   "metadata": {},
   "source": [
    "# Exercise 14\n",
    "\n",
    "We use the same information from exercise 13 but we present the material with more statistics. Divide your plot in two vertical subplots one with 2/3 area and the other with 1/3 area.\n",
    "Now split the 2/3 area into 2 equal horizontal strips and embed the two graphs from exercise 13. These two graphs should contain legend and average numbers of injuries per accident and deaths per accidents over the total period 1992-2018 (not for individual years).\n",
    "\n",
    "Now divide the remaining 1/3 vertical strip into 3 equal parts, in each part, plot a pie graph showing ratio of drunk drivers and non drunk drivers in accidents, injuries and death's over the total period 1992-2018."
   ]
  }
 ],
 "metadata": {
  "kernelspec": {
   "display_name": "Python 3",
   "language": "python",
   "name": "python3"
  },
  "language_info": {
   "codemirror_mode": {
    "name": "ipython",
    "version": 3
   },
   "file_extension": ".py",
   "mimetype": "text/x-python",
   "name": "python",
   "nbconvert_exporter": "python",
   "pygments_lexer": "ipython3",
   "version": "3.7.1"
  }
 },
 "nbformat": 4,
 "nbformat_minor": 2
}

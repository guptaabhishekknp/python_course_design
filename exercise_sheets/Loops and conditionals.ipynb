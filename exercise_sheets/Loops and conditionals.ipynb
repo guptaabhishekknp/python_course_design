{
 "cells": [
  {
   "cell_type": "markdown",
   "metadata": {},
   "source": [
    "<center><h1> Loops and conditionals </h1><center>\n",
    "    \n",
    "Loops are a way to iteratatively execute a set of commands for a certain number of steps. There are two types of loops in python: for loops and while loops.\n",
    "\n",
    "<h2> For loops </h2>\n",
    "\n",
    "These are used to iterate over an iterator. For example, \n",
    "\n",
    "**Example:** The loop below prints numbers from 1 to 10."
   ]
  },
  {
   "cell_type": "code",
   "execution_count": null,
   "metadata": {},
   "outputs": [],
   "source": [
    "for i in range(10):\n",
    "    i = i+1\n",
    "    print(i)"
   ]
  },
  {
   "cell_type": "markdown",
   "metadata": {},
   "source": [
    "<h2> While loops </h2>\n",
    "\n",
    "These are used to iterate until a certain condition stays true. For example,\n",
    "\n",
    "**Example:** The loop below prints integers from 1 to 10."
   ]
  },
  {
   "cell_type": "code",
   "execution_count": null,
   "metadata": {},
   "outputs": [],
   "source": [
    "c = 1\n",
    "while c <= 10:\n",
    "    print(c)\n",
    "    c = c+1"
   ]
  },
  {
   "cell_type": "markdown",
   "metadata": {},
   "source": [
    "In a for loop, we always iterate over an iterable."
   ]
  },
  {
   "cell_type": "markdown",
   "metadata": {},
   "source": [
    "<h2> Nested Loops </h2>\n",
    "\n",
    "When we have a loop within a loop, it's called as a nested loop.\n",
    "\n",
    "**Example:**"
   ]
  }
 ],
 "metadata": {
  "kernelspec": {
   "display_name": "Python 3",
   "language": "python",
   "name": "python3"
  },
  "language_info": {
   "codemirror_mode": {
    "name": "ipython",
    "version": 3
   },
   "file_extension": ".py",
   "mimetype": "text/x-python",
   "name": "python",
   "nbconvert_exporter": "python",
   "pygments_lexer": "ipython3",
   "version": "3.7.1"
  }
 },
 "nbformat": 4,
 "nbformat_minor": 2
}

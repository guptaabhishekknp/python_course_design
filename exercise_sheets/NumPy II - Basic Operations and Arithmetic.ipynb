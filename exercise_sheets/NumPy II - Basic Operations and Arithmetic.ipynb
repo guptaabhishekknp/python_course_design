{
 "cells": [
  {
   "cell_type": "markdown",
   "metadata": {},
   "source": [
    "<center> <h1>NumPy II - Basic Matrix Operations and Arithmetic </h1> </center>\n",
    "\n",
    "In this worksheet we look at basic operations with NumPy arrays. \n",
    "\n",
    "We can add, subtract, divide and multiply two arrays element wise using expressions like A+B, A-B etc.\n",
    "\n",
    "**Example:** The code below has two 3$\\times$ 2 arrays with all values as 8 and 4 respectively. Run the code to see the results."
   ]
  },
  {
   "cell_type": "code",
   "execution_count": null,
   "metadata": {},
   "outputs": [],
   "source": [
    "import numpy as np\n",
    "\n",
    "A = np.full((3,2), 8)\n",
    "B = np.full((3,2), 4)\n",
    "\n",
    "print(A+B) #returns the elementwise sum\n",
    "print(A-B)\n",
    "print(A*B)\n",
    "print(A/B)"
   ]
  },
  {
   "cell_type": "markdown",
   "metadata": {},
   "source": [
    "If we need to multiply a constant with all the entries of a matrix, we can again just use an asterisk. To multiply two matrices(of the appropriate dimensions), together we can use `np.matmul(a,b)` or just `a@b`.\n",
    "\n",
    "**Example:** Run the code below to see the output. "
   ]
  },
  {
   "cell_type": "code",
   "execution_count": null,
   "metadata": {},
   "outputs": [],
   "source": [
    "A = np.full((2,3), 2)\n",
    "B = np.full((3,5), 1)\n",
    "print(4*A)\n",
    "print(A@B)\n",
    "print(np.matmul(A,B)==A@B)"
   ]
  },
  {
   "cell_type": "markdown",
   "metadata": {},
   "source": [
    "We can apply some standard mathematical functions to a matrix elementwise.\n",
    "\n",
    "**Example:** Run the code below to see the result of some mathematical functions applied elementwise to the array."
   ]
  },
  {
   "cell_type": "code",
   "execution_count": null,
   "metadata": {},
   "outputs": [],
   "source": [
    "A = np.array([[1,4,9,],[16,25,36]])\n",
    "\n",
    "print(np.sqrt(A))    #Returns the square root of each element \n",
    "print(np.exp(A))     #Returns the exponentials of each element\n",
    "print(np.sin(A))     #Returns the sin of each element\n",
    "print(np.cos(A))     #Returns the cosine of each element\n",
    "print(np.log(A))     #Returns the logarithm of each element\n",
    "print(np.sum(A))     #Returns the sum total of elements in the array\n",
    "print(np.std(A))     #Returns the standard deviation of in the array"
   ]
  },
  {
   "cell_type": "markdown",
   "metadata": {},
   "source": [
    "`a.transpose()` returns the transpose of an array.\n",
    "\n",
    "**Example:** A square matrix is said to be symmetric if it is equal to its transpose. The code below initilizes a matrix and checks if it is symmteric."
   ]
  },
  {
   "cell_type": "code",
   "execution_count": null,
   "metadata": {},
   "outputs": [],
   "source": [
    "A = np.array([[1,2,3],[2,6,5],[3,5,7]])\n",
    "\n",
    "print(A.transpose())\n",
    "print(np.array_equal(A,A.transpose()))"
   ]
  }
 ],
 "metadata": {
  "kernelspec": {
   "display_name": "Python 3",
   "language": "python",
   "name": "python3"
  },
  "language_info": {
   "codemirror_mode": {
    "name": "ipython",
    "version": 3
   },
   "file_extension": ".py",
   "mimetype": "text/x-python",
   "name": "python",
   "nbconvert_exporter": "python",
   "pygments_lexer": "ipython3",
   "version": "3.7.1"
  }
 },
 "nbformat": 4,
 "nbformat_minor": 2
}

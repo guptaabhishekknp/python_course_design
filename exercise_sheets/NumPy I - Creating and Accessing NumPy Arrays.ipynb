{
 "cells": [
  {
   "cell_type": "markdown",
   "metadata": {},
   "source": [
    "<center> <h1>NumPy I - Creating and Accessing NumPy Arrays</h1> </center>\n",
    "\n",
    "\n",
    "<h2> Introduction </h2>\n",
    "\n",
    "NumPy is a Python library, adding support for large, multi-dimensional arrays and matrices, along with a large collection of high-level mathematical functions to operate on these arrays. As a result, NumPy is often useful in applications involving linear algebra, statistics, optimization etc.\n",
    "\n",
    "In the next few worksheets we will learn about NumPy. In this worksheet, we will look at how to create numpy arrays.\n",
    "\n",
    "\n",
    "<h2> NumPy Arrays </h2>\n",
    "\n",
    "In order to use NumPy we must first import the library into our code, which can do with:\n",
    "\n",
    "    import numpy as np\n",
    "    \n",
    "**Example:** We can create and initialize an numpy array as in the cell below. Run the cell to see the result:"
   ]
  },
  {
   "cell_type": "code",
   "execution_count": null,
   "metadata": {},
   "outputs": [],
   "source": [
    "import numpy as np\n",
    "\n",
    "one_d_array = np.array([1,2,3])\n",
    "two_d_array = np.array([[2,7,0],[4,8,1]])\n",
    "\n",
    "print(one_d_array)\n",
    "print(two_d_array)"
   ]
  },
  {
   "cell_type": "markdown",
   "metadata": {},
   "source": [
    "**Exercise:** In the cell below, initialize and print a 3$\\times$3 identity matrix using the `np.array` command."
   ]
  },
  {
   "cell_type": "code",
   "execution_count": null,
   "metadata": {},
   "outputs": [],
   "source": []
  },
  {
   "cell_type": "markdown",
   "metadata": {},
   "source": [
    "It's impractical to initialize, say, a 100$\\times$100 NumPy array by hand. To make it easier, NumPy has a set of commands to create common matrices like identity matrix, constant matrix etc. \n",
    "\n",
    "    M = np.identity(3, dtype=int) # np.eye() can also be used\n",
    "    Z = np.zeros((4,7), dtype=float) # 4x7 array with 0s in all entries\n",
    "    N = np.full((2,3), 5) # 2X3 array with all values as 5\n",
    "    O = np.ones((2,3,4)) # 3 dimensional array with 1s in all entries\n",
    "    D = np.diag((1, 2, 3) # creates a square diagonal matrix with 1,2,3 along the diagonal\n",
    "    \n",
    "The data type of the matrix can be specified to be int, float etc.\n",
    "\n",
    "We can convert a list of numbers into a NumPy array. \n",
    "\n",
    "    A = np.array([5,8,7,6])\n",
    "    \n",
    "**Example:** The cell below lists some examples. It also makes a comparison between two different ways of making a 2$\\times$3 matrix of all 1s. Run it to see what happens."
   ]
  },
  {
   "cell_type": "code",
   "execution_count": null,
   "metadata": {},
   "outputs": [],
   "source": [
    "print(np.identity(4))\n",
    "print(np.full((2,3),1) == np.ones((2,3)))"
   ]
  },
  {
   "cell_type": "markdown",
   "metadata": {},
   "source": [
    "As you saw above, the result of comparing two arrays gives an array of results of elementwise comparison. This is different from lists where you get just a single boolean value of `True` or `False`. Since the result is an array of boolean values we can use the functions `all()` and `any()`, which we saw when doing lists, and which (reminder) return `True` or `False` depending on whether any or all values in the list are `True`. For example if `M` and `N` are a pair of one dimensional arrays of same length:\n",
    "\n",
    "    print(all(M==N))\n",
    "    \n",
    "will print true if all of the corresponding entries of M and N are equal. Similarly for `any()`. For comparing two arrays of dimension different than $1$, we use `np.array_equal()`.\n",
    "\n",
    "**Exercise:** In the cell below, create a one dimensional array of length 5 consisting of 1s using two different functions described above. Use `all()` to check if all entries are equal."
   ]
  },
  {
   "cell_type": "code",
   "execution_count": null,
   "metadata": {},
   "outputs": [],
   "source": []
  },
  {
   "cell_type": "markdown",
   "metadata": {},
   "source": [
    "If we know that a certain array is one dimensional, we can just use `len()` to find its length. If we need to find the dimensions of any array, array_name.shape can be used. For example,\n",
    "\n",
    "    X = np.ones((3,5))\n",
    "    print(X.shape)\n",
    "    \n",
    "will print the tuple (3,5)."
   ]
  },
  {
   "cell_type": "markdown",
   "metadata": {},
   "source": [
    "<h2> np.arange() and np.linspace() </h2>\n",
    "\n",
    "Sometimes we want an array with a sequence of numbers increasing with a constant step size. We can use the function `np.arange()` for that. We should give the start, stop and step size to the function. The stop point in not included. For example, \n",
    "\n",
    "    np.arange(1,9,2)\n",
    "    \n",
    "gives the array [1, 3, 5, 7] which starts at 1 and increases in steps of 2 until it reaches the stopping point which is 9.\n",
    "\n",
    "**Exercise:** In the cell below, \n",
    "* Use `np.arange()` to create and print an array with all even numbers between 12 and 30. \n",
    "* Use `np.arange()` to print all multiples of 17 between 0 and 200\n",
    "\n",
    "*Hint:* For the second one, start at 0 and proceed in steps of 17."
   ]
  },
  {
   "cell_type": "code",
   "execution_count": null,
   "metadata": {},
   "outputs": [],
   "source": []
  },
  {
   "cell_type": "markdown",
   "metadata": {},
   "source": [
    "`np.linspace()` takes a start, stop and number_of_points and gives number_of_points many elements between start and stop, including both the start and stop point. For example, \n",
    "\n",
    "    np.linspace(2,6,5)\n",
    "    \n",
    "gives the array [2,3,4,5,6] which is 5 equally spaced numbers between 2 and 6 both inclusive.\n",
    "\n",
    "Thus, `np.linspace()` is similar to `np.arange()`, in that it takes a start and stop point and gives a sequence of equally spaced numbers between those, but linspace does that in a differnt way."
   ]
  },
  {
   "cell_type": "markdown",
   "metadata": {},
   "source": [
    "<h2> np.vstack(), np.hstack() and np.column_stack()</h2>\n",
    "\n",
    "\n",
    "These are functions that are used to stack two arrays together to form a new array. Each does the stacking in a different way. We see their function with the following example.\n",
    "\n",
    "**Example:** The cell below shows what each of these does."
   ]
  },
  {
   "cell_type": "code",
   "execution_count": null,
   "metadata": {},
   "outputs": [],
   "source": [
    "A = np.array([1,2,3])\n",
    "B = np.array([4,5,6])\n",
    "\n",
    "print(\"result of vstack:\\n\", np.vstack((A,B)))\n",
    "\n",
    "print(\"result of column_stack:\\n\", np.column_stack((A,B)))\n",
    "\n",
    "print(\"result of hstack:\\n\", np.hstack((A,B)))"
   ]
  },
  {
   "cell_type": "markdown",
   "metadata": {},
   "source": [
    "<h2> Accessing Elements and Slicing</h2>\n",
    "\n",
    "We can access the elements of an array using indices in a sqaure bracket, just like lists. For multi-dimesnional arrays, we use multiple brackets. Indices start with 0. For example,\n",
    "\n",
    "    A = np.array([5,2,7,9,0,3])\n",
    "    print(A[1])\n",
    "    I = np.identity(4)\n",
    "    print(I[3][3])\n",
    "    \n",
    "will print 2 and 1. Negative indices can be used to print elements from the back. For example, a[-1] will print the last element of the one dimesional array a. If $a$ is the array in the above example it will print 3. Similarly, a[-3] will print 9 for the above A. If we wish to assign/change A[i] to a particular value, we just do A[i] = number.\n",
    "\n",
    "I[5] for a 2d array will give its sixth row. \n",
    "\n",
    "**Example:** Run the cell below to see an example of this:\n"
   ]
  },
  {
   "cell_type": "code",
   "execution_count": null,
   "metadata": {},
   "outputs": [],
   "source": [
    "A = [[1,2,3,4,5],[0,2,8,4,6],[9,1,7,3,5]]\n",
    "print(A[1])\n",
    "A[0][2] = 47778\n",
    "print(A)"
   ]
  },
  {
   "cell_type": "markdown",
   "metadata": {},
   "source": [
    "We next look at slicing. To get a subset of the array we can specify the start and stop indices in the brackets, separated by a colon. This is a 'slice' of the array. The stop index is not included in the slice. For example, \n",
    "\n",
    "    np.arange(10)[4:7] \n",
    "    \n",
    "will print [4,5,6]. Not specifying either the start or stop indices, assumes it to be the first or last index respectively. \n",
    "\n",
    "**Example:** Predict the output if we run the following code:\n",
    "\n",
    "    A = np.array([8,3,5,7,0,1,2,6,4])\n",
    "    print(A[:3])\n",
    "    print(A[5:])\n",
    "    print(A[-2:])\n",
    "\n",
    "Write your predictions in the box below"
   ]
  },
  {
   "cell_type": "markdown",
   "metadata": {},
   "source": []
  },
  {
   "cell_type": "markdown",
   "metadata": {},
   "source": [
    "Now run the cell below to check if your prediction is correct."
   ]
  },
  {
   "cell_type": "code",
   "execution_count": null,
   "metadata": {},
   "outputs": [],
   "source": [
    "A = np.array([8,3,5,7,0,1,2,6,4])\n",
    "print(A[:3])\n",
    "print(A[5:])\n",
    "print(A[-2:])"
   ]
  },
  {
   "cell_type": "markdown",
   "metadata": {},
   "source": [
    "<h2> Loading and saving numpy data </h2>\n",
    "\n",
    "**Example:** Run the example below to understand how to save and load numpy arrays."
   ]
  },
  {
   "cell_type": "code",
   "execution_count": null,
   "metadata": {},
   "outputs": [],
   "source": [
    "A = np.array([1, 2, 3, 4])\n",
    "np.savetxt('test1.txt', A)\n",
    "B = np.loadtxt('test1.txt', dtype=int)\n",
    "print(A == B)"
   ]
  },
  {
   "cell_type": "markdown",
   "metadata": {},
   "source": [
    "<h2> Copying an array </h2>\n",
    "\n",
    "In order to copy a numpy array b into an another variable a, we use a = np.copy(b). Using a = b does not create a copy of the matrix, it creates problems. \n",
    "\n",
    "**Example:** Run the code below to see the problems that a=b can create"
   ]
  },
  {
   "cell_type": "code",
   "execution_count": null,
   "metadata": {},
   "outputs": [],
   "source": [
    "B = np.full((2,3),1)\n",
    "A = np.copy(B)\n",
    "print(\"A is: \",'\\n',A,'\\n')\n",
    "A[0][0] = 5\n",
    "print(\"A is: \",'\\n',A,'\\n',\"B is: \",'\\n',B,'\\n')\n",
    "\n",
    "C = B\n",
    "C[0][0] = 6\n",
    "print(\"B is: \",'\\n',B,'\\n',\"C is: \",'\\n',C,'\\n')"
   ]
  },
  {
   "cell_type": "markdown",
   "metadata": {},
   "source": [
    "We observe that modifying C also modifies B. Thus we must not use C=B while copying arrays."
   ]
  },
  {
   "cell_type": "code",
   "execution_count": null,
   "metadata": {},
   "outputs": [],
   "source": []
  },
  {
   "cell_type": "markdown",
   "metadata": {},
   "source": [
    "<h2> Checking if two arrays are equal </h2>\n",
    "\n",
    "As we know, comparing floating point numbers which are expected to be equal can give erroneous results. If we expect two arrays to be equal, we must use `np.allclose(A,B)` to compare them. This returns True if two arrays are element-wise equal within a tolerance."
   ]
  }
 ],
 "metadata": {
  "kernelspec": {
   "display_name": "Python 3",
   "language": "python",
   "name": "python3"
  },
  "language_info": {
   "codemirror_mode": {
    "name": "ipython",
    "version": 3
   },
   "file_extension": ".py",
   "mimetype": "text/x-python",
   "name": "python",
   "nbconvert_exporter": "python",
   "pygments_lexer": "ipython3",
   "version": "3.7.1"
  }
 },
 "nbformat": 4,
 "nbformat_minor": 2
}

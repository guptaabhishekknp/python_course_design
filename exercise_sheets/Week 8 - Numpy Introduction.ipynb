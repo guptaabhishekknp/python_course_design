{
 "cells": [
  {
   "cell_type": "markdown",
   "metadata": {},
   "source": [
    "<center><h1> Week 8 - Numpy Introduction </h1></center>\n",
    "\n",
    "1) Use for loops to initialize and print the following matrix:\n",
    "\n",
    "$$\\begin{bmatrix}\n",
    "1&2&3&4&5&6&7&8&9&10\\\\\n",
    "0&1&2&3&4&5&6&7&8&9\\\\\n",
    "0&0&1&2&3&4&5&6&7&8\\\\\n",
    "0&0&0&1&2&3&4&5&6&7\\\\\n",
    "0&0&0&0&1&2&3&4&5&6\\\\\n",
    "0&0&0&0&0&1&2&3&4&5\\\\\n",
    "0&0&0&0&0&0&1&2&3&4\\\\\n",
    "0&0&0&0&0&0&0&1&2&3\\\\\n",
    "0&0&0&0&0&0&0&0&1&2\\\\\n",
    "0&0&0&0&0&0&0&0&0&1\n",
    "\\end{bmatrix}$$\n",
    "\n",
    "Do not initialize entires one-by-one manually! Begin with a zero matrix and run loops to initialize the entries."
   ]
  },
  {
   "cell_type": "code",
   "execution_count": null,
   "metadata": {},
   "outputs": [],
   "source": [
    "[[max(j-i+1,0) for j in range(10)] for i in range(10)]"
   ]
  },
  {
   "cell_type": "markdown",
   "metadata": {},
   "source": [
    "2) Input a permutation of the digits 12345, for example say, 15243 and print the corresponding permutation matrix. For example the matrix for 15243 would be:\n",
    "\n",
    "$$\\begin{bmatrix}\n",
    "1&0&0&0&0\\\\\n",
    "0&0&1&0&0\\\\\n",
    "0&0&0&0&1\\\\\n",
    "0&0&0&1&0\\\\\n",
    "0&1&0&0&0\n",
    "\\end{bmatrix}$$"
   ]
  },
  {
   "cell_type": "code",
   "execution_count": null,
   "metadata": {},
   "outputs": [],
   "source": []
  },
  {
   "cell_type": "markdown",
   "metadata": {},
   "source": [
    "3) Print the following antidiagonal matrix:\n",
    "\n",
    "$$\\begin{bmatrix}\n",
    "0&0&0&0&1\\\\\n",
    "0&0&0&2&0\\\\\n",
    "0&0&3&0&0\\\\\n",
    "0&4&0&1&0\\\\\n",
    "5&0&0&0&0\n",
    "\\end{bmatrix}$$\n",
    "\n",
    "Do not initialize entires one-by-one manually! Begin with a zero matrix and run loops to initialize the entries."
   ]
  },
  {
   "cell_type": "code",
   "execution_count": null,
   "metadata": {},
   "outputs": [],
   "source": []
  },
  {
   "cell_type": "markdown",
   "metadata": {},
   "source": [
    "4) Use for loops to initialize and print the matrix:\n",
    "\n",
    "\n",
    "$$\\begin{bmatrix}\n",
    "7&7&7&7&7&7&7\\\\\n",
    "0&5&5&5&5&5&0\\\\\n",
    "0&0&3&3&3&0&0\\\\\n",
    "0&0&0&1&0&0&0\\\\\n",
    "0&0&3&3&3&0&0\\\\\n",
    "0&5&5&5&5&5&0\\\\\n",
    "7&7&7&7&7&7&7\n",
    "\\end{bmatrix}$$\n",
    "\n",
    "Do not initialize entires one-by-one manually! Begin with a zero matrix and run loops to initialize the entries."
   ]
  },
  {
   "cell_type": "code",
   "execution_count": null,
   "metadata": {},
   "outputs": [],
   "source": []
  },
  {
   "cell_type": "markdown",
   "metadata": {},
   "source": [
    "5) Find the pattern in the following matrix:\n",
    "\n",
    "$$\\begin{bmatrix}\n",
    "1&0&2&0&3\\\\\n",
    "0&4&0&5&0\\\\\n",
    "6&0&7&0&8\\\\\n",
    "0&9&0&10&0\\\\\n",
    "11&0&12&0&13\n",
    "\\end{bmatrix}$$\n",
    "\n",
    "Now use for loops to initilialize and print this matrix. Print a 6$\\times$6 and 7$\\times$7 matrix with the same pattern.\n",
    "Do not initialize entires one-by-one manually! Begin with a zero matrix and run loops to initialize the entries."
   ]
  },
  {
   "cell_type": "code",
   "execution_count": null,
   "metadata": {},
   "outputs": [],
   "source": []
  },
  {
   "cell_type": "markdown",
   "metadata": {},
   "source": [
    "6) For the matrix below, write a code to find the sum of diagonally running lines of the matrix.\n",
    "$$\\begin{bmatrix}\n",
    "1&2&0&0&1\\\\\n",
    "3&0&6&2&0\\\\\n",
    "1&-4&3&0&2\\\\\n",
    "0&4&0&1&0\\\\\n",
    "5&0&0&2&0\n",
    "\\end{bmatrix}$$\n",
    "\n",
    "Some of the diagonals will be:\n",
    "\n",
    "![](matrix.png)\n",
    "\n",
    "And the output should be 1, 0, 4, 8, 5, 1, 5, 0, 5\n",
    "\n",
    "Do not just print these values by one-by-one manually. Actually write a code with loops that would still work if any other matrix was initialized into the variable."
   ]
  },
  {
   "cell_type": "code",
   "execution_count": null,
   "metadata": {},
   "outputs": [],
   "source": []
  },
  {
   "cell_type": "markdown",
   "metadata": {},
   "source": [
    "7) For the array of numbers 1, 9, 3, 5, 0, -2, 6, 7. Print a new array which replaces each number by the sum of the numbers before and after it. For the first number, treat the last number as the one before it, in other words, treat the array to be a circle."
   ]
  },
  {
   "cell_type": "code",
   "execution_count": null,
   "metadata": {},
   "outputs": [],
   "source": []
  },
  {
   "cell_type": "markdown",
   "metadata": {},
   "source": [
    "8) Print the following spiral matrix. Print the same patterns for 10$\\times$10 matrix as well.\n",
    "\n",
    "$$\\begin{bmatrix}\n",
    "1&1&1&1&1\\\\\n",
    "4&5&5&5&2\\\\\n",
    "4&8&9&6&2\\\\\n",
    "4&7&7&6&2\\\\\n",
    "3&3&3&3&2\n",
    "\\end{bmatrix}$$"
   ]
  },
  {
   "cell_type": "code",
   "execution_count": null,
   "metadata": {},
   "outputs": [],
   "source": []
  },
  {
   "cell_type": "markdown",
   "metadata": {},
   "source": [
    "9) Initialize and square matrix of your choice and print its entries proceeding in a spiral fashion. For example, if the matrix is \n",
    "\n",
    "$$\\begin{bmatrix}\n",
    "1&2&0&0&1\\\\\n",
    "3&0&6&2&0\\\\\n",
    "1&-4&3&0&2\\\\\n",
    "0&4&0&1&0\\\\\n",
    "5&0&0&2&0\n",
    "\\end{bmatrix}$$\n",
    "\n",
    "your code should print 1, 2, 0, 0, 1, 0, 2, 0, 0, 2, 0 , 0, 5, 0, 1, 3, 0, 6, 2, 0, 1, 0, 4, -4, 3"
   ]
  },
  {
   "cell_type": "code",
   "execution_count": null,
   "metadata": {},
   "outputs": [],
   "source": []
  },
  {
   "cell_type": "markdown",
   "metadata": {},
   "source": [
    "10) The trace of a matrix is the sum of its diagonal entries. A submatrix of a matrix is a block of a consecutive subset of rows and columns. For the matrix below, find and print the 3$\\times$3 submatrix-block that has the largest trace.\n",
    "\n",
    "$$\\begin{bmatrix}\n",
    "1&2&0&0&1\\\\\n",
    "3&0&6&2&0\\\\\n",
    "1&-4&3&0&2\\\\\n",
    "0&4&0&1&0\\\\\n",
    "5&0&0&2&0\n",
    "\\end{bmatrix}$$\n",
    "\n",
    "If the matrix in question was \n",
    "\n",
    "$$\\begin{bmatrix}\n",
    "0&0&0&0&0\\\\\n",
    "0&0&1&0&0\\\\\n",
    "1&0&0&0&0\\\\\n",
    "0&1&0&0&0\\\\\n",
    "0&0&1&0&0\n",
    "\\end{bmatrix}$$\n",
    "\n",
    "then the bottom-left 3$\\times$3 block will be the answer as its trace is 3, which is the largest of traces of all possible continuous 3$\\times$3 blocks."
   ]
  },
  {
   "cell_type": "code",
   "execution_count": null,
   "metadata": {},
   "outputs": [],
   "source": []
  },
  {
   "cell_type": "markdown",
   "metadata": {},
   "source": [
    "12) Write a code that approximates $\\int_0^\\pi \\sin(x)dx$ using a Riemann sum. Use `np.linspace()` to calculate divide $[0,\\pi]$ into 100 equal parts and use the Riemann sum forumla."
   ]
  },
  {
   "cell_type": "code",
   "execution_count": null,
   "metadata": {},
   "outputs": [],
   "source": []
  },
  {
   "cell_type": "markdown",
   "metadata": {},
   "source": [
    "13) Find approximate zeros of the function $f(x) = x^e- e^x$ on the interval $[0,5]$: use `np.linspace()` to divide the interval $[0,5]$ into 1000 equal parts, evaluate the function of all the points and output where the absolute value is the smallest."
   ]
  },
  {
   "cell_type": "code",
   "execution_count": null,
   "metadata": {},
   "outputs": [],
   "source": []
  },
  {
   "cell_type": "markdown",
   "metadata": {},
   "source": [
    "14) Find the approximate point of maximum slope of the function $f(x)=cos(x)$ on the interval [0,$\\pi$] using `np.linspace()`."
   ]
  },
  {
   "cell_type": "code",
   "execution_count": null,
   "metadata": {},
   "outputs": [],
   "source": []
  },
  {
   "cell_type": "markdown",
   "metadata": {},
   "source": [
    "15) Find the approximate volume under the surface $f(x,y) = x^2+y^2+1$ over the square [0,1]$\\times$[0,1]: use `np.linspace()` to create $x$ and $y$ coordiantes for a grid on the given square then calculate the sum $\\sum \\Delta x\\Delta y f(x,y)$ where $\\Delta x,\\Delta y$ are the dimensions of the little squares of your grid and $f(x,y)$ is the value of the function at a corner of the square."
   ]
  },
  {
   "cell_type": "code",
   "execution_count": null,
   "metadata": {},
   "outputs": [],
   "source": []
  },
  {
   "cell_type": "markdown",
   "metadata": {},
   "source": [
    "16) Initialize an array of your choice of length 50. Find the element closest and farthest from the mean."
   ]
  },
  {
   "cell_type": "code",
   "execution_count": null,
   "metadata": {},
   "outputs": [],
   "source": []
  },
  {
   "cell_type": "markdown",
   "metadata": {},
   "source": [
    "17) Initialize a 100$\\times $ 2 array of your choice. Treating these as coordinates, find the points which are closest and farthest from the centriod. Find the farthest and closest pair of points. Use `np.linalg.norm(a-b)` to find the euclidean distance."
   ]
  },
  {
   "cell_type": "code",
   "execution_count": null,
   "metadata": {},
   "outputs": [],
   "source": []
  },
  {
   "cell_type": "markdown",
   "metadata": {},
   "source": [
    "18) Initialize a 100$\\times$3 array of your choice, with distince entries. Treating it as a collection of vectors in 3-dimensinos, find the vector which makes the smallest angle with the centroid vector. Also, find the vector which has the largest projection along the centroid vector. Use `np.dot()` to calculate dot products and `np.linalg.norm()` to find norms. "
   ]
  },
  {
   "cell_type": "code",
   "execution_count": null,
   "metadata": {},
   "outputs": [],
   "source": []
  },
  {
   "cell_type": "markdown",
   "metadata": {},
   "source": [
    "19) Approximate the length of the curve $y=x^2$ from $x=$0 to $x=$2. Use `np.linspace()` to divide the interval [0,2] into 100 equal parts, find the $x$ and $y$ coordinates of the appropriate points and the sum of distance between each consecutive pair.\n",
    "\n",
    "![](arc.jpg)\n"
   ]
  },
  {
   "cell_type": "code",
   "execution_count": null,
   "metadata": {},
   "outputs": [],
   "source": []
  },
  {
   "cell_type": "markdown",
   "metadata": {},
   "source": [
    "20) Using the same method as the previous problem, find the circumference of the semi-circle of radius 1 with center at the origin. The equation of the semicircle is $y=\\sqrt{1-x^2}$ and the relevant interval is [-1,1]. Change the number of divisions of the interval (the third parameter in `np.linspace()`) from 10 to 500 and plot the difference between your answer and the value of `math.pi` on a graph versus the number of divisions."
   ]
  },
  {
   "cell_type": "code",
   "execution_count": null,
   "metadata": {},
   "outputs": [],
   "source": []
  },
  {
   "cell_type": "markdown",
   "metadata": {},
   "source": [
    "21) The shortest distance between two vertices i and j of a graph is the smallest number n such that the (i,j)-th entry of the matrix $A^n$ is positive. Given the adjacency matrix below, find the smallest distances between all pairs of vertices:\n",
    "\n",
    "$$\\begin{bmatrix}\n",
    "0 & 1 & 0 & 0 & 1 & 0\\\\\n",
    "1 & 0 & 1 & 0 & 1 & 0\\\\\n",
    "0 & 1 & 0 & 1 & 0 & 0\\\\\n",
    "0 & 0 & 1 & 0 & 1 & 1\\\\\n",
    "1 & 1 & 0 & 1 & 0 & 0\\\\\n",
    "0 & 0 & 0 & 1 & 0 & 0\n",
    "\\end{bmatrix}$$"
   ]
  },
  {
   "cell_type": "code",
   "execution_count": null,
   "metadata": {},
   "outputs": [],
   "source": []
  },
  {
   "cell_type": "markdown",
   "metadata": {},
   "source": [
    "22) Suppose that we have a population of humans and zombies which we'll check every few days. Suppose that every human has an 80% chance of surviving those few days, and a 20% chance of turning into a zombie. Thankfully, the humans aren’t completely defenseless—they have found a cure! Unfortunately, it’s very difficult to apply the cure, so every zombie has a 99% chance of remaining a zombie, and a 1% chance of actually being cured. Thus if we begin with $H$ humans and $Z$ zombies, the expected number of humans and zombies after a day is:\n",
    "\n",
    "$$\\begin{bmatrix}\n",
    "0.80&0.01\\\\\n",
    "0.20&0.99\n",
    "\\end{bmatrix}\\cdot\\begin{bmatrix}H\\\\Z\\end{bmatrix}$$\n",
    "\n",
    "For instance, suppose we I start with one zombie and 99 humans, and check back in a day days. We'll have:\n",
    "\n",
    "$$\\begin{bmatrix}\n",
    "0.80&0.01\\\\\n",
    "0.20&0.99\n",
    "\\end{bmatrix}\\cdot\\begin{bmatrix}99\\\\1\\end{bmatrix}=\\begin{bmatrix}79.21\\\\20.79\\end{bmatrix}$$\n",
    "\n",
    "about 79 humans and 21 zombies in a day. Find the number of zombies and humans in the long run (run your code until the number of humans or zombies does not change by more than 0.5)."
   ]
  },
  {
   "cell_type": "code",
   "execution_count": null,
   "metadata": {},
   "outputs": [],
   "source": []
  },
  {
   "cell_type": "markdown",
   "metadata": {},
   "source": [
    "23) The coordinates of two particles in three dimensional space are given by $(t,t^2,t^3)$ and $(t-1,e^t,2/t)$. Find the approximate time instant between $t=$1 and $t=2$ when the distance between them is maximum."
   ]
  },
  {
   "cell_type": "code",
   "execution_count": null,
   "metadata": {},
   "outputs": [],
   "source": []
  },
  {
   "cell_type": "markdown",
   "metadata": {},
   "source": [
    "24) Initialize and print the following square matrix using both the methods listed below:\n",
    "\n",
    "$$\n",
    "\\left(\\begin{array}\n",
    " 11&1&\\dots&1\\\\\n",
    "2&2&\\dots&2\\\\\n",
    "\\vdots&\\vdots&\\ddots&\\vdots\\\\\n",
    "10&10&\\dots&10\n",
    "\\end{array}\\right)\n",
    "$$ \n",
    "\n",
    "* within a loop using `np.full()` and then `np.vstack()`\n",
    "* using `np.arange()` and then using `np.column_stack()` in a loop\n"
   ]
  },
  {
   "cell_type": "code",
   "execution_count": null,
   "metadata": {},
   "outputs": [],
   "source": []
  },
  {
   "cell_type": "markdown",
   "metadata": {},
   "source": [
    "25) Create the square matrix below use two more ways:\n",
    "\n",
    "* initializing a zero square matrix using `np.zeros()` and populating it element by element using two nested for loops\n",
    "* initialize a zero matrix and loop over its rows which you change one at a time using `A[i]=np.full(10,i+1)`.\n",
    "\n",
    "$$\n",
    "\\left(\\begin{array}\n",
    " 11&1&\\dots&1\\\\\n",
    "2&2&\\dots&2\\\\\n",
    "\\vdots&\\vdots&\\ddots&\\vdots\\\\\n",
    "10&10&\\dots&10\n",
    "\\end{array}\\right)\n",
    "$$ "
   ]
  },
  {
   "cell_type": "code",
   "execution_count": null,
   "metadata": {},
   "outputs": [],
   "source": []
  }
 ],
 "metadata": {
  "kernelspec": {
   "display_name": "Python 3",
   "language": "python",
   "name": "python3"
  },
  "language_info": {
   "codemirror_mode": {
    "name": "ipython",
    "version": 3
   },
   "file_extension": ".py",
   "mimetype": "text/x-python",
   "name": "python",
   "nbconvert_exporter": "python",
   "pygments_lexer": "ipython3",
   "version": "3.7.1"
  }
 },
 "nbformat": 4,
 "nbformat_minor": 2
}

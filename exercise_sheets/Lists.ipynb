{
 "cells": [
  {
   "cell_type": "markdown",
   "metadata": {},
   "source": [
    "<center><h1> Lists </h1></center>\n",
    "\n",
    "There are four collection data types in the Python programming language: lists, tuples, dictionary and set. In this worksheet we will be talking about lists, which are the most frequently used out of these four.\n",
    "\n",
    "A list is a collection which is ordered and changeable. In Python lists are written with square brackets. The elements of a list can be of different datatypes\n",
    "\n",
    "**Example:** "
   ]
  },
  {
   "cell_type": "code",
   "execution_count": null,
   "metadata": {},
   "outputs": [],
   "source": [
    "l = ['pi', 3.14, False, 22/7]\n",
    "print(l)"
   ]
  },
  {
   "cell_type": "markdown",
   "metadata": {},
   "source": [
    "<h2>Accessing Values, Slicing, Updating Values</h2>\n",
    " \n",
    "We can access values and slice a list using the square bracket notation. \n",
    "\n",
    "We update single or multiple elements of lists by giving the slice on the left-hand side of the assignment operator."
   ]
  },
  {
   "cell_type": "code",
   "execution_count": null,
   "metadata": {},
   "outputs": [],
   "source": [
    "list1 = ['math', 'science', 1, 0]\n",
    "list2 = [1, 2, 3, 4, 5, 6, 7 ]\n",
    "print(list1[0])\n",
    "print(list2[1:5])\n",
    "\n",
    "list2[2:5] = ['a','b','c','d']\n",
    "print(list2)"
   ]
  },
  {
   "cell_type": "markdown",
   "metadata": {},
   "source": [
    "<h2> List operations </h2>\n",
    "\n",
    "Length `len(l)` returns the length of the list\n",
    " \n",
    "Concatenation `list1+list2` gives a new list with the two lists concatenated\n",
    "\n",
    "Repetition `l*4` gives a list concatenated to itself 4 times\n",
    " \n",
    "Membership `x in l` gives `True` if the element `x` is in `l`\n",
    "\n",
    "Iteration `for element in l` is used to iterate over all elements of `l`"
   ]
  },
  {
   "cell_type": "code",
   "execution_count": null,
   "metadata": {},
   "outputs": [],
   "source": [
    "l = [1, 2, 3, 4, 5, 6, 7 ]\n",
    "\n",
    "print(len(l))\n",
    "print(l+l[:3])\n",
    "print(l[:1]*5)\n",
    "print(8 in l, 6 in l)\n",
    "\n",
    "for e in l:\n",
    "    print(\"The square of \", e, \" is \", e^2)"
   ]
  },
  {
   "cell_type": "markdown",
   "metadata": {},
   "source": [
    "<h2> List methods </h2>\n",
    "\n",
    "`append()`\tAdds an element at the end of the list\n",
    "\n",
    "`clear()`\tRemoves all the elements from the list\n",
    "\n",
    "`copy()`\tReturns a copy of the list\n",
    "\n",
    "`count()`\tReturns the number of elements with the specified value\n",
    "\n",
    "`extend()`\tAdd the elements of a list (or any iterable), to the end of the current list\n",
    "\n",
    "`index()`\tReturns the index of the first element with the specified value\n",
    "\n",
    "`insert()`\tAdds an element at the specified position\n",
    "\n",
    "`pop()`\t    Removes the element at the specified position\n",
    "\n",
    "`remove()`\tRemoves the item with the specified value\n",
    "\n",
    "`reverse()`\tReverses the order of the list\n",
    "\n",
    "`sort()`\tSorts the list\n",
    "\n",
    "**Example:**"
   ]
  },
  {
   "cell_type": "code",
   "execution_count": null,
   "metadata": {},
   "outputs": [],
   "source": [
    "list1 = ['cat','rat']\n",
    "list2 = ['mat','bat']\n",
    "\n",
    "list1.append(list2) \n",
    "print(list1)\n",
    "list1.clear()\n",
    "print(list1)\n",
    "\n",
    "list3 = list2.copy()\n",
    "\n",
    "print(list2.count('mat'))\n",
    "\n",
    "print(list2.index('mat')) \n",
    "\n",
    "list1.insert(0,'sat')\n",
    "print(list1)\n",
    "\n",
    "list2.pop(0) \n",
    "print(list2)\n",
    "\n",
    "#list1.remove()\n",
    "\n",
    "l = ['a','b','c']\n",
    "print(l.reverse())\n",
    "\n",
    "l=[6,2,8,0,1,3,7,8,9,4,5]\n",
    "l.sort()\n",
    "print(l)"
   ]
  },
  {
   "cell_type": "markdown",
   "metadata": {},
   "source": [
    "<h2> enumerate() </h2>\n",
    "\n",
    "The `enumerate()` function takes an iterable and returns an enumerate object of tuples where for every tuple, the first entry is the index and the second is the corresponding value from the iterable. The enumerate object can be converted to a list.\n",
    "\n",
    "**Example:**"
   ]
  },
  {
   "cell_type": "code",
   "execution_count": null,
   "metadata": {},
   "outputs": [],
   "source": [
    "l1 = [\"eat\",\"sleep\",\"repeat\"] \n",
    "print(list(enumerate(l1)))"
   ]
  },
  {
   "cell_type": "markdown",
   "metadata": {},
   "source": [
    "This can be used where we want to iterate over an iterable, say a list, and also want to keep track of the index of the current element.\n",
    "\n",
    "**Example:**"
   ]
  },
  {
   "cell_type": "code",
   "execution_count": null,
   "metadata": {},
   "outputs": [],
   "source": [
    "rich_people = ['Jeff Bezos', 'Bernard Arnault', 'Bill Gates', 'Warren Buffet', 'Amancio Ortega','Mark Zuckerberg','Larry Elison']\n",
    "\n",
    "for i,p in enumerate(rich_people):\n",
    "    print(p, \" is the \", i+1, \"richest person in the world\")"
   ]
  }
 ],
 "metadata": {
  "kernelspec": {
   "display_name": "Python 3",
   "language": "python",
   "name": "python3"
  },
  "language_info": {
   "codemirror_mode": {
    "name": "ipython",
    "version": 3
   },
   "file_extension": ".py",
   "mimetype": "text/x-python",
   "name": "python",
   "nbconvert_exporter": "python",
   "pygments_lexer": "ipython3",
   "version": "3.7.1"
  }
 },
 "nbformat": 4,
 "nbformat_minor": 2
}

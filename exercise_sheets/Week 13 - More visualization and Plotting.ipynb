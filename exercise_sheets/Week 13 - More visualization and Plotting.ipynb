{
 "cells": [
  {
   "cell_type": "markdown",
   "metadata": {},
   "source": [
    "<center><h1> Week 13 - More visualization and Plotting </h1></center>\n",
    "\n",
    "<h3> 3-d plots, contour plots and heat maps </h3>\n",
    "\n",
    "1) Draw a 3-d plot of the paraboloid $z=x^2+y^2$. Take a mesh-grid on [-5,5]$\\times$[-5,5] as the domain on the xy-plane.\n",
    "Your plot should look something like:\n",
    "\n",
    "![](image8.png)\n",
    "\n",
    "    import matplotlib.pyplot as plt\n",
    "    import numpy as np\n",
    "\n",
    "    fig = plt.figure()\n",
    "    ax = fig.gca(projection='3d')\n",
    "\n",
    "    X = np.arange(-5, 5, 0.25)\n",
    "    Y = np.arange(-5, 5, 0.25)\n",
    "    X, Y = np.meshgrid(X, Y)\n",
    "    Z = (X**2 + Y**2)\n",
    "\n",
    "    ax.plot_surface(X, Y, Z, cmap=cm.coolwarm,\n",
    "                       linewidth=0, antialiased=False)\n",
    "\n",
    "    plt.show()\n",
    "    \n",
    "2) Plot a heat map for the function $z=\\frac{\\sin(x)}{x}\\cdot\\frac{\\sin(y)}{y}$ on the domain [-10,10]. Your graph should look something like:\n",
    "\n",
    "![](image9.png)\n",
    "\n",
    "    import matplotlib.pyplot as plt\n",
    "    import numpy as np\n",
    "    import math\n",
    "    X= np.linspace(-20,20,1000)\n",
    "    Y = np.linspace(-20,20,1000)\n",
    "\n",
    "    a = [[(math.sin(x)/x)*(math.sin(y)/y) for x in X] for y in Y]\n",
    "    plt.imshow(a, cmap='summer', interpolation='nearest')\n",
    "    plt.show()\n",
    "\n",
    "3) Plot a parametric curve $z = t, x = t\\cdot\\sin(t), y = t\\cdot\\cos(t)$ as $t$ varies from 0 to 50. Your figure should look like this \n",
    "\n",
    "![](image10.png)\n",
    "\n",
    "    import numpy as np\n",
    "    import matplotlib.pyplot as plt\n",
    "\n",
    "    fig = plt.figure()\n",
    "    ax = fig.gca(projection='3d')\n",
    "\n",
    "    t = np.linspace(0,100, 1000)\n",
    "    z = math.sqrt(t)\n",
    "    x = t* np.sin(t)\n",
    "    y = t * np.cos(t)\n",
    "\n",
    "    ax.plot(x, y, z, label='parametric curve')\n",
    "    ax.legend()\n",
    "\n",
    "    plt.show()"
   ]
  }
 ],
 "metadata": {
  "kernelspec": {
   "display_name": "Python 3",
   "language": "python",
   "name": "python3"
  },
  "language_info": {
   "codemirror_mode": {
    "name": "ipython",
    "version": 3
   },
   "file_extension": ".py",
   "mimetype": "text/x-python",
   "name": "python",
   "nbconvert_exporter": "python",
   "pygments_lexer": "ipython3",
   "version": "3.7.1"
  }
 },
 "nbformat": 4,
 "nbformat_minor": 2
}

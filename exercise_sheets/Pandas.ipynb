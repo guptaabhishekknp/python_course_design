{
 "cells": [
  {
   "cell_type": "markdown",
   "metadata": {},
   "source": [
    "<center> <h1> Pandas </h1> </center>\n",
    "\n",
    "Pandas is a library that provides data structures and operations for manipulating numerical tables and time series. A series is a column and a dataframe is a table. These two together make up the main components of pandas.\n",
    "\n",
    "<h2> DataFrames </h2>\n",
    "\n",
    "We begin by seeing how to create a dataframe. We can use a dictionary to make a dataframe. The keys are used as column names and the list of values is used for column values."
   ]
  },
  {
   "cell_type": "code",
   "execution_count": null,
   "metadata": {},
   "outputs": [],
   "source": [
    "import pandas as pd\n",
    "\n",
    "dat = {'apples': [1,9,0,3],\n",
    "        'oranges': [2,6,7,8]}\n",
    "\n",
    "purchases = pd.DataFrame(dat)#capital D&F, we can write data=dat, index=[...] to specify the index in the declaration itself\n",
    "purchases.index = ['June','July','August','September']\n",
    "\n",
    "purchases.loc['August']"
   ]
  },
  {
   "cell_type": "code",
   "execution_count": null,
   "metadata": {},
   "outputs": [],
   "source": [
    "import pandas as pd\n",
    "\n",
    "purchaz = pd.read_csv('purchases.csv')#,index_col=0) #the second parameter is passed to tell that the zeroth column is indexes\n",
    "purchaz"
   ]
  },
  {
   "cell_type": "code",
   "execution_count": null,
   "metadata": {},
   "outputs": [],
   "source": [
    "purchaz = pd.read_csv('purchases.csv')#,index_col=0) #the second parameter is passed to tell that the zeroth column is indexes\n",
    "x = purchaz.set_index('apples')#,inplace=False)\n",
    "#x.index.name = None\n",
    "x"
   ]
  },
  {
   "cell_type": "code",
   "execution_count": null,
   "metadata": {},
   "outputs": [],
   "source": [
    "x['oranges'] = x['oranges'].apply(lambda x: 2*x)\n",
    "x['oranges'] = [2,6,1,0]\n",
    "print(x)\n",
    "type(x['oranges'])"
   ]
  },
  {
   "cell_type": "code",
   "execution_count": null,
   "metadata": {},
   "outputs": [],
   "source": [
    "x.shape\n",
    "\n",
    "x.loc[x['oranges']%3 ==0]"
   ]
  },
  {
   "cell_type": "code",
   "execution_count": null,
   "metadata": {},
   "outputs": [],
   "source": [
    "x.append(x)"
   ]
  },
  {
   "cell_type": "code",
   "execution_count": null,
   "metadata": {},
   "outputs": [],
   "source": [
    "x.drop_duplicates()"
   ]
  },
  {
   "cell_type": "code",
   "execution_count": null,
   "metadata": {},
   "outputs": [],
   "source": [
    "x.columns"
   ]
  },
  {
   "cell_type": "code",
   "execution_count": null,
   "metadata": {},
   "outputs": [],
   "source": [
    "x.columns = ['maka','choda']\n",
    "x"
   ]
  },
  {
   "cell_type": "code",
   "execution_count": null,
   "metadata": {},
   "outputs": [],
   "source": [
    "x[\"new_maka\"] = x[\"maka\"].apply(lambda x: x +'behencho')\n"
   ]
  },
  {
   "cell_type": "code",
   "execution_count": null,
   "metadata": {},
   "outputs": [],
   "source": [
    "import numpy as np\n",
    "\n",
    "s = pd.Series(np.random.randint(100,size=1000))\n",
    "s"
   ]
  },
  {
   "cell_type": "code",
   "execution_count": null,
   "metadata": {},
   "outputs": [],
   "source": [
    "s[s>s.quantile(0.25)]"
   ]
  },
  {
   "cell_type": "code",
   "execution_count": null,
   "metadata": {},
   "outputs": [],
   "source": [
    "s.iloc[[i for i in range(10) if i%3==0]]"
   ]
  },
  {
   "cell_type": "code",
   "execution_count": null,
   "metadata": {},
   "outputs": [],
   "source": [
    "#interestoing https://stackoverflow.com/questions/36921951/truth-value-of-a-series-is-ambiguous-use-a-empty-a-bool-a-item-a-any-o"
   ]
  },
  {
   "cell_type": "code",
   "execution_count": null,
   "metadata": {},
   "outputs": [],
   "source": []
  },
  {
   "cell_type": "code",
   "execution_count": null,
   "metadata": {},
   "outputs": [],
   "source": [
    "import numpy as np"
   ]
  },
  {
   "cell_type": "code",
   "execution_count": null,
   "metadata": {},
   "outputs": [],
   "source": [
    "def project(v, u):\n",
    "    return np.multiply((np.dot(v,u)/np.dot(u,u)),u)\n",
    "\n",
    "v, u = [[1,-1,1],[1,0,1],[1,1,2]], []\n",
    "for vec in v:\n",
    "    u.append(vec - np.sum([project(vec,w) for w in u],axis=0))"
   ]
  },
  {
   "cell_type": "code",
   "execution_count": null,
   "metadata": {},
   "outputs": [],
   "source": [
    "print(np.array(u))"
   ]
  },
  {
   "cell_type": "code",
   "execution_count": null,
   "metadata": {},
   "outputs": [],
   "source": []
  }
 ],
 "metadata": {
  "kernelspec": {
   "display_name": "Python 3",
   "language": "python",
   "name": "python3"
  },
  "language_info": {
   "codemirror_mode": {
    "name": "ipython",
    "version": 3
   },
   "file_extension": ".py",
   "mimetype": "text/x-python",
   "name": "python",
   "nbconvert_exporter": "python",
   "pygments_lexer": "ipython3",
   "version": "3.7.1"
  }
 },
 "nbformat": 4,
 "nbformat_minor": 2
}

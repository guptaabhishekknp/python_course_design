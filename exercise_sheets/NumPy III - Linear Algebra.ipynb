{
 "cells": [
  {
   "cell_type": "markdown",
   "metadata": {},
   "source": [
    "<center> <h1>NumPy III - Linear Algebra </h1> </center>\n",
    "\n",
    "\n",
    "In this worksheet we will look at linear algebra operations like solving systems of linear equations, computing norms, dot products, determinants and eigenvalue computations."
   ]
  },
  {
   "cell_type": "markdown",
   "metadata": {},
   "source": [
    "<h2>Trace, Determinant, Inverse</h2>\n",
    "\n",
    "`np.linalg.det(A)`, `np.linalg.inv(A)`, `np.trace(A)` can be used to find the determinant, inverse and trace of a matrix respectively.\n",
    "\n",
    "`np.linalg.matrix_power(A, n)` can be used to find the n-th power of the matrix A."
   ]
  },
  {
   "cell_type": "markdown",
   "metadata": {},
   "source": [
    "`np.vdot(A,B)` is used to calculate the dot product of two vectors. \n",
    "\n",
    "<h2> Eigenvalues and Eigenvectors </h2>\n",
    "\n",
    "`np.linalg.eig(A)` is used to calculate the eigenvectors and eigenvalues of the matrix A. It returns a tuple with the first item in the tuple being an array containing the eigenvalues and the second one containig the eigenvectors as its rows. \n",
    "\n",
    "If we want just the eigenvalues, we can use `np.linalg.eigvals()`.\n",
    "\n",
    "**Example:** Run the code below to see the eigenvectors and eigenvalues of the diagonal matrix with 1, 2, 3 as it's diagonal entries."
   ]
  },
  {
   "cell_type": "code",
   "execution_count": null,
   "metadata": {},
   "outputs": [],
   "source": [
    "w, V = np.linalg.eig(np.diag((1, 2, 3)))\n",
    "print(W)\n",
    "print('\\n',V)"
   ]
  },
  {
   "cell_type": "markdown",
   "metadata": {},
   "source": [
    "<h3> Floating Point Arithmetic and Complex Eigenvalues </h3>\n",
    "\n",
    "Since floating point numbers in python can give small errors in calculations, sometimes calculating a matrix's eigenvalues can lead to numbers with small imaginary parts, even when we expect the eigenvalues to be real. For example, consider the matrix:\n",
    "\n",
    "$$\\begin{bmatrix}\n",
    "0&1\\\\0&0\n",
    "\\end{bmatrix}$$ \n",
    "\n",
    "this matrix has eigenvalues zero. Let's see what `np.linalg.eigvals()` gives us."
   ]
  },
  {
   "cell_type": "code",
   "execution_count": 1,
   "metadata": {},
   "outputs": [
    {
     "data": {
      "text/plain": [
       "array([0., 0.])"
      ]
     },
     "execution_count": 1,
     "metadata": {},
     "output_type": "execute_result"
    }
   ],
   "source": [
    "import numpy as np\n",
    "\n",
    "np.linalg.eigvals([[0,1],[0,0]])"
   ]
  },
  {
   "cell_type": "markdown",
   "metadata": {},
   "source": [
    "this gives 0s as eigenvalues. Let us now do rewrite one of the entries replacing 0 with 1.2-1.0-0.2 so that the matrix becomes\n",
    "\n",
    "$$\\begin{bmatrix}\n",
    "0&1\\\\0&0\n",
    "\\end{bmatrix}=\\begin{bmatrix}\n",
    "0&1\\\\1.2-1.0-0.2&0\n",
    "\\end{bmatrix}$$ \n",
    "\n",
    "Let's see if these matrices are actually close to each other:"
   ]
  },
  {
   "cell_type": "code",
   "execution_count": 2,
   "metadata": {},
   "outputs": [
    {
     "data": {
      "text/plain": [
       "True"
      ]
     },
     "execution_count": 2,
     "metadata": {},
     "output_type": "execute_result"
    }
   ],
   "source": [
    "import numpy as np\n",
    "\n",
    "A = [[0,1],\n",
    "     [0,0]]\n",
    "\n",
    "B = [[0          ,1],\n",
    "     [1.2-1.0-0.2,0]]\n",
    "\n",
    "np.allclose(A,B)"
   ]
  },
  {
   "cell_type": "markdown",
   "metadata": {},
   "source": [
    "So they are indeed close enough to be considered the same. Let's see the eigenvalues with this small change."
   ]
  },
  {
   "cell_type": "code",
   "execution_count": 2,
   "metadata": {},
   "outputs": [
    {
     "data": {
      "text/plain": [
       "array([0.+7.4505806e-09j, 0.-7.4505806e-09j])"
      ]
     },
     "execution_count": 2,
     "metadata": {},
     "output_type": "execute_result"
    }
   ],
   "source": [
    "np.linalg.eigvals([[0,1],[1.2-1.0-0.2,0]])"
   ]
  },
  {
   "cell_type": "markdown",
   "metadata": {},
   "source": [
    "This can give an imaginary value! This is because 1.2-1.0-0.2 does not evaluate to zero but a small negative number. As a result the eigenvalues have small imaginary parts. You should expect this to happen with calculations in your code as well. There are two ways to deal with this: either discard the imaginary part of the eigenvalues if it is small, or take the absolute value of the result."
   ]
  },
  {
   "cell_type": "markdown",
   "metadata": {},
   "source": [
    "<h2>Euclidean Norm and Euclidean Distance</h2>\n",
    "\n",
    "`np.linalg.norm(A)` can be used to find the euclidean norm of a vector. \n",
    "\n",
    "**Exercise:** Find the euclidean distance between the points (3,7,1) and (5,9,2) by finding the norm of their difference."
   ]
  },
  {
   "cell_type": "code",
   "execution_count": null,
   "metadata": {},
   "outputs": [],
   "source": []
  },
  {
   "cell_type": "markdown",
   "metadata": {},
   "source": [
    "<h2>Solving Linear Equations</h2>\n",
    "\n",
    "If A is a matrix of coefficients of a linear system of equations AX=B, and B is the corresponding array of values, `linalg.solve(A, B)` returns a vector X which is a solution for the equations.\n",
    "\n",
    "**Example:** Below is a code to solve the system \n",
    "\n",
    "$$\n",
    "3  x_0 + x_1 = 9 \\\\ \n",
    "x_0 + 2  x_1 = 8\n",
    "$$\n",
    "\n",
    "Run it to see the result."
   ]
  },
  {
   "cell_type": "code",
   "execution_count": null,
   "metadata": {},
   "outputs": [],
   "source": [
    "A = np.array([[3,1], [1,2]])\n",
    "B = np.array([9,8])\n",
    "X = np.linalg.solve(A, B)\n",
    "print(X)"
   ]
  }
 ],
 "metadata": {
  "kernelspec": {
   "display_name": "Python 3",
   "language": "python",
   "name": "python3"
  },
  "language_info": {
   "codemirror_mode": {
    "name": "ipython",
    "version": 3
   },
   "file_extension": ".py",
   "mimetype": "text/x-python",
   "name": "python",
   "nbconvert_exporter": "python",
   "pygments_lexer": "ipython3",
   "version": "3.7.1"
  }
 },
 "nbformat": 4,
 "nbformat_minor": 2
}
